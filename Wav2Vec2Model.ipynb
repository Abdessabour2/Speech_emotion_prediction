{
  "cells": [
    {
      "cell_type": "code",
      "execution_count": null,
      "metadata": {
        "colab": {
          "base_uri": "https://localhost:8080/"
        },
        "id": "RbtWOWCKYDZd",
        "outputId": "ec115996-d75f-4b62-a09c-eae09dadd541"
      },
      "outputs": [
        {
          "name": "stdout",
          "output_type": "stream",
          "text": [
            "Downloading from https://www.kaggle.com/api/v1/datasets/download/uldisvalainis/audio-emotions?dataset_version_number=1...\n"
          ]
        },
        {
          "name": "stderr",
          "output_type": "stream",
          "text": [
            "100%|██████████| 1.12G/1.12G [00:53<00:00, 22.4MB/s]\n"
          ]
        },
        {
          "name": "stdout",
          "output_type": "stream",
          "text": [
            "Extracting files...\n",
            "Data source import complete.\n"
          ]
        }
      ],
      "source": [
        "import kagglehub\n",
        "uldisvalainis_audio_emotions_path = kagglehub.dataset_download('uldisvalainis/audio-emotions')\n",
        "\n",
        "print('Data source import complete.')"
      ]
    },
    {
      "cell_type": "code",
      "execution_count": null,
      "metadata": {
        "id": "OiAmwGG0V65C"
      },
      "outputs": [],
      "source": [
        "import os\n",
        "import librosa\n",
        "import torchaudio\n",
        "import torch\n",
        "import pandas as pd\n",
        "import numpy as np\n",
        "from tqdm import tqdm\n",
        "from transformers import Wav2Vec2Processor, Wav2Vec2Model\n",
        "import random\n",
        "import librosa\n",
        "import numpy as np\n",
        "import torchaudio"
      ]
    },
    {
      "cell_type": "code",
      "execution_count": null,
      "metadata": {
        "id": "qmyeFP4PYM8G"
      },
      "outputs": [],
      "source": [
        "device = torch.device(\"cuda\" if torch.cuda.is_available() else \"cpu\")"
      ]
    },
    {
      "cell_type": "code",
      "execution_count": null,
      "metadata": {
        "colab": {
          "base_uri": "https://localhost:8080/",
          "height": 1000,
          "referenced_widgets": [
            "1f389b01d9d549fda8f43999352036d0",
            "984c9c13bf3c487bada8674f66174c83",
            "43b846c3e423428485d254e946ab24ef",
            "64da7b5dd9324db1949a925a6449a6ef",
            "0e838aa1517b44c8948ea06c2e9a875c",
            "05441fe1ebc045d29ad80d111101c34d",
            "d90cbd5e8eaa4a219fae1537cac4f3ad",
            "c4b2bdd880a841a7a7cd16761de612fd",
            "6754cb83c0604d5cb1992ca7054f4470",
            "5f9a9a8886854d37a8ce0594de7fa42e",
            "bda0de6b48e24111a89d75213dea06f8",
            "af8974c9e0a54e368fa82a6f8bad5571",
            "bc376d2326f242709f658709dd96f2eb",
            "ba094ac8a938475da70c674dd92236cb",
            "5c3ededc6a8f4fce965624ed18be4c4e",
            "d824d1f1e1334717ba1ef71d05f4ceb1",
            "1844dff04c8f41bf959b41512714144a",
            "73a30567398349c39a270dd35eea9586",
            "174d0906d1d34a72b70b65488baa51c6",
            "260d33c616e841c09ac00520343e93b3",
            "83fdfc1c4e694fafb3919bf7d6113abc",
            "1e7237ae44a541ecaa76afb3faa57a7a",
            "3c494ae6c7264ea4b51679fa06c4ddcd",
            "44b3b9d4c93e4221872ddc64a339a0c2",
            "26f8a6284eaf42698dcb4163b0b4501d",
            "5e6383eb96964249b166ff00fddf1b29",
            "9fceea9fe7a1441eba5c7b16b06db9cb",
            "e0c49e27bac04a1eb64fac70180e1614",
            "dc3cb0364f6a4977981f9bf6b71c1e0a",
            "d76549c10e2d4f79ac4309d46d756ae2",
            "50f7f9ec269a41759111d9e00916b636",
            "aeccca0b09de41c59ef617de15ab7c65",
            "b2028c36badf413c97d66db069bf11ff",
            "088f9cf6386c4367bb5b55677e4a7be2",
            "37edadc1e0ee45f8bc2350d5b1b37002",
            "056d69ca479642a39ba7433237dd492d",
            "de8526184897403d9c0ad3f9bef8c41f",
            "5240775d4c2a4428aad78eb3e9cb84d2",
            "a40fad5807c14bfd8a905650ef7a4bc1",
            "ec7c5b97a9b9429f886669789bba0c4c",
            "09090cd0efc64846887320ec0c82aee8",
            "26d46b02e16a40fc811d8dd36b7fb5df",
            "6547770f25154670a0e733cbaf8eb83c",
            "3eee5cacc6b342739f347324a101b733",
            "9cdd56c1a1754e87bfd7f9400b72adbf",
            "8a2331a7a02d475d9bb4bd52822e5696",
            "96c702f440f3447bae7333bccbc23f49",
            "5c4dd9d3864c41d5839b66756b90c81f",
            "65fe548be528454ea264c70d831bba6b",
            "aa7eb8181379489d9a0323e426ba5d69",
            "a356bd5c31cc4905acedafea36756b1c",
            "1b14c37cb82245bd952dc804f81972f5",
            "81913e0076b94402b161dfd578cc2453",
            "7a179f68427a4f5faddb55d598b7f5c6",
            "19673c6c4b7f4a9bb65332a1edc6f0f8"
          ]
        },
        "id": "VcVs0Tg2X2zX",
        "outputId": "af630e87-1145-43ac-c55e-563e8464d847"
      },
      "outputs": [
        {
          "name": "stderr",
          "output_type": "stream",
          "text": [
            "/usr/local/lib/python3.11/dist-packages/huggingface_hub/utils/_auth.py:94: UserWarning: \n",
            "The secret `HF_TOKEN` does not exist in your Colab secrets.\n",
            "To authenticate with the Hugging Face Hub, create a token in your settings tab (https://huggingface.co/settings/tokens), set it as secret in your Google Colab and restart your session.\n",
            "You will be able to reuse this secret in all of your notebooks.\n",
            "Please note that authentication is recommended but still optional to access public models or datasets.\n",
            "  warnings.warn(\n"
          ]
        },
        {
          "data": {
            "application/vnd.jupyter.widget-view+json": {
              "model_id": "1f389b01d9d549fda8f43999352036d0",
              "version_major": 2,
              "version_minor": 0
            },
            "text/plain": [
              "preprocessor_config.json:   0%|          | 0.00/262 [00:00<?, ?B/s]"
            ]
          },
          "metadata": {},
          "output_type": "display_data"
        },
        {
          "data": {
            "application/vnd.jupyter.widget-view+json": {
              "model_id": "af8974c9e0a54e368fa82a6f8bad5571",
              "version_major": 2,
              "version_minor": 0
            },
            "text/plain": [
              "config.json:   0%|          | 0.00/1.53k [00:00<?, ?B/s]"
            ]
          },
          "metadata": {},
          "output_type": "display_data"
        },
        {
          "data": {
            "application/vnd.jupyter.widget-view+json": {
              "model_id": "3c494ae6c7264ea4b51679fa06c4ddcd",
              "version_major": 2,
              "version_minor": 0
            },
            "text/plain": [
              "vocab.json:   0%|          | 0.00/300 [00:00<?, ?B/s]"
            ]
          },
          "metadata": {},
          "output_type": "display_data"
        },
        {
          "data": {
            "application/vnd.jupyter.widget-view+json": {
              "model_id": "088f9cf6386c4367bb5b55677e4a7be2",
              "version_major": 2,
              "version_minor": 0
            },
            "text/plain": [
              "special_tokens_map.json:   0%|          | 0.00/85.0 [00:00<?, ?B/s]"
            ]
          },
          "metadata": {},
          "output_type": "display_data"
        },
        {
          "data": {
            "application/vnd.jupyter.widget-view+json": {
              "model_id": "9cdd56c1a1754e87bfd7f9400b72adbf",
              "version_major": 2,
              "version_minor": 0
            },
            "text/plain": [
              "model.safetensors:   0%|          | 0.00/1.26G [00:00<?, ?B/s]"
            ]
          },
          "metadata": {},
          "output_type": "display_data"
        },
        {
          "data": {
            "text/plain": [
              "Wav2Vec2Model(\n",
              "  (feature_extractor): Wav2Vec2FeatureEncoder(\n",
              "    (conv_layers): ModuleList(\n",
              "      (0): Wav2Vec2LayerNormConvLayer(\n",
              "        (conv): Conv1d(1, 512, kernel_size=(10,), stride=(5,))\n",
              "        (layer_norm): LayerNorm((512,), eps=1e-05, elementwise_affine=True)\n",
              "        (activation): GELUActivation()\n",
              "      )\n",
              "      (1-4): 4 x Wav2Vec2LayerNormConvLayer(\n",
              "        (conv): Conv1d(512, 512, kernel_size=(3,), stride=(2,))\n",
              "        (layer_norm): LayerNorm((512,), eps=1e-05, elementwise_affine=True)\n",
              "        (activation): GELUActivation()\n",
              "      )\n",
              "      (5-6): 2 x Wav2Vec2LayerNormConvLayer(\n",
              "        (conv): Conv1d(512, 512, kernel_size=(2,), stride=(2,))\n",
              "        (layer_norm): LayerNorm((512,), eps=1e-05, elementwise_affine=True)\n",
              "        (activation): GELUActivation()\n",
              "      )\n",
              "    )\n",
              "  )\n",
              "  (feature_projection): Wav2Vec2FeatureProjection(\n",
              "    (layer_norm): LayerNorm((512,), eps=1e-05, elementwise_affine=True)\n",
              "    (projection): Linear(in_features=512, out_features=1024, bias=True)\n",
              "    (dropout): Dropout(p=0.05, inplace=False)\n",
              "  )\n",
              "  (encoder): Wav2Vec2EncoderStableLayerNorm(\n",
              "    (pos_conv_embed): Wav2Vec2PositionalConvEmbedding(\n",
              "      (conv): ParametrizedConv1d(\n",
              "        1024, 1024, kernel_size=(128,), stride=(1,), padding=(64,), groups=16\n",
              "        (parametrizations): ModuleDict(\n",
              "          (weight): ParametrizationList(\n",
              "            (0): _WeightNorm()\n",
              "          )\n",
              "        )\n",
              "      )\n",
              "      (padding): Wav2Vec2SamePadLayer()\n",
              "      (activation): GELUActivation()\n",
              "    )\n",
              "    (layer_norm): LayerNorm((1024,), eps=1e-05, elementwise_affine=True)\n",
              "    (dropout): Dropout(p=0.05, inplace=False)\n",
              "    (layers): ModuleList(\n",
              "      (0-23): 24 x Wav2Vec2EncoderLayerStableLayerNorm(\n",
              "        (attention): Wav2Vec2SdpaAttention(\n",
              "          (k_proj): Linear(in_features=1024, out_features=1024, bias=True)\n",
              "          (v_proj): Linear(in_features=1024, out_features=1024, bias=True)\n",
              "          (q_proj): Linear(in_features=1024, out_features=1024, bias=True)\n",
              "          (out_proj): Linear(in_features=1024, out_features=1024, bias=True)\n",
              "        )\n",
              "        (dropout): Dropout(p=0.05, inplace=False)\n",
              "        (layer_norm): LayerNorm((1024,), eps=1e-05, elementwise_affine=True)\n",
              "        (feed_forward): Wav2Vec2FeedForward(\n",
              "          (intermediate_dropout): Dropout(p=0.05, inplace=False)\n",
              "          (intermediate_dense): Linear(in_features=1024, out_features=4096, bias=True)\n",
              "          (intermediate_act_fn): GELUActivation()\n",
              "          (output_dense): Linear(in_features=4096, out_features=1024, bias=True)\n",
              "          (output_dropout): Dropout(p=0.05, inplace=False)\n",
              "        )\n",
              "        (final_layer_norm): LayerNorm((1024,), eps=1e-05, elementwise_affine=True)\n",
              "      )\n",
              "    )\n",
              "  )\n",
              ")"
            ]
          },
          "execution_count": 4,
          "metadata": {},
          "output_type": "execute_result"
        }
      ],
      "source": [
        "model_name = \"jonatasgrosman/wav2vec2-large-xlsr-53-english\"\n",
        "processor = Wav2Vec2Processor.from_pretrained(model_name)\n",
        "model = Wav2Vec2Model.from_pretrained(model_name).to(device)\n",
        "model.eval()"
      ]
    },
    {
      "cell_type": "code",
      "execution_count": null,
      "metadata": {
        "id": "IjwVslzVX_6m"
      },
      "outputs": [],
      "source": [
        "DATASET_PATH = \"/root/.cache/kagglehub/datasets/uldisvalainis/audio-emotions/versions/1/Emotions\"\n",
        "OUTPUT_CSV = \"wav2vec2_features.csv\""
      ]
    },
    {
      "cell_type": "code",
      "execution_count": null,
      "metadata": {
        "id": "-QmKCR3qZJPq"
      },
      "outputs": [],
      "source": [
        "def add_noise(audio, sr, noise_factor=0.005):\n",
        "    noise = np.random.randn(len(audio))\n",
        "    audio = audio + noise_factor * noise\n",
        "    return audio\n",
        "\n",
        "def time_stretch(audio, sr, rate=1.2):\n",
        "    return librosa.effects.time_stretch(y=audio, rate=rate)\n",
        "\n",
        "def pitch_shift(audio, sr, n_steps=2):\n",
        "    return librosa.effects.pitch_shift(y=audio, sr=sr, n_steps=n_steps)\n",
        "\n",
        "def shift_audio(audio, sr, shift_max=0.2):\n",
        "    shift = np.random.randint(int(sr * -shift_max), int(sr * shift_max))\n",
        "    return np.roll(audio, shift)\n",
        "\n",
        "def speed_change(audio, sr, speed_factor=1.2):\n",
        "    audio_length = len(audio) / sr\n",
        "    new_length = int(audio_length / speed_factor)\n",
        "    audio = librosa.effects.time_stretch(y=audio, rate=speed_factor)\n",
        "    audio = librosa.util.fix_length(audio, size=new_length * sr)\n",
        "    return audio\n",
        "def amplitude_scaling(audio, sr, scale_factor=1.5):\n",
        "    return audio * scale_factor"
      ]
    },
    {
      "cell_type": "code",
      "execution_count": null,
      "metadata": {
        "id": "NJpJA8x7YXJ4"
      },
      "outputs": [],
      "source": [
        "embedding_size = 512\n",
        "feature_columns = [f\"emb_{i}\" for i in range(embedding_size)]\n",
        "final_df = pd.DataFrame(columns=feature_columns + [\"label\", \"filename\"])"
      ]
    },
    {
      "cell_type": "code",
      "execution_count": null,
      "metadata": {
        "id": "P3IFS4FjYilH"
      },
      "outputs": [],
      "source": [
        "def extract_wav2vec2_features(filepath, fonction_augmentation=None):\n",
        "    speech_array, sampling_rate = torchaudio.load(filepath)\n",
        "    speech_array = speech_array.squeeze().numpy()\n",
        "\n",
        "    # Apply augmentation if provided\n",
        "    if fonction_augmentation:\n",
        "        speech_array = fonction_augmentation(speech_array, sampling_rate)\n",
        "\n",
        "    # Resample to 16kHz if needed\n",
        "    if sampling_rate != 16000:\n",
        "        speech_array = librosa.resample(speech_array, orig_sr=sampling_rate, target_sr=16000)\n",
        "\n",
        "    # Use processor to extract the embeddings\n",
        "    inputs = processor(speech_array, sampling_rate=16000, return_tensors=\"pt\", padding=True)\n",
        "    input_values = inputs.input_values.to(device)\n",
        "    attention_mask = inputs.attention_mask.to(device)\n",
        "\n",
        "    with torch.no_grad():\n",
        "        output = model(input_values, attention_mask=attention_mask)\n",
        "\n",
        "    # Average pooling across time dimension to get final feature vector\n",
        "    embeddings = output.extract_features.squeeze(0).cpu().numpy()\n",
        "    mean_embedding = np.mean(embeddings, axis=0)\n",
        "    return mean_embedding\n",
        "\n"
      ]
    },
    {
      "cell_type": "code",
      "execution_count": null,
      "metadata": {
        "colab": {
          "base_uri": "https://localhost:8080/"
        },
        "id": "WYmv98C9ZMmc",
        "outputId": "f7d168ae-513d-490c-9ac4-1ea61882c746"
      },
      "outputs": [
        {
          "name": "stdout",
          "output_type": "stream",
          "text": [
            "[np.float32(0.2606937), np.float32(-0.62123775), np.float32(-0.72796345), np.float32(0.4850253), np.float32(0.0344004), np.float32(0.44209245), np.float32(-0.3186179), np.float32(-0.093668014), np.float32(1.5343022), np.float32(0.13682121), np.float32(0.61111474), np.float32(-0.22423396), np.float32(0.19342035), np.float32(-0.52671075), np.float32(-0.16632552), np.float32(0.39917925), np.float32(-0.20932537), np.float32(0.31433287), np.float32(-0.78242433), np.float32(0.9633741), np.float32(0.0054655387), np.float32(0.011661059), np.float32(0.40184292), np.float32(0.31615955), np.float32(-0.317172), np.float32(-0.6459265), np.float32(-0.068198085), np.float32(-0.33861193), np.float32(-0.5802085), np.float32(-0.6743748), np.float32(0.48854396), np.float32(0.030206572), np.float32(1.2069802), np.float32(-0.1947016), np.float32(-0.47674012), np.float32(0.3838012), np.float32(0.30661106), np.float32(-0.18721026), np.float32(0.30414915), np.float32(0.7314877), np.float32(-0.096754), np.float32(-0.62699956), np.float32(0.41018504), np.float32(-0.13915607), np.float32(-0.18084767), np.float32(-0.26850548), np.float32(0.051285684), np.float32(0.025684226), np.float32(0.51102746), np.float32(0.14266597), np.float32(-0.53674996), np.float32(-0.12761034), np.float32(-0.21337458), np.float32(-0.19380292), np.float32(0.24674574), np.float32(0.17311074), np.float32(-0.54495496), np.float32(0.23835477), np.float32(0.5899042), np.float32(-0.55600375), np.float32(-0.14620276), np.float32(-0.1356587), np.float32(0.44987023), np.float32(-0.5458873), np.float32(-0.14149535), np.float32(-0.1116276), np.float32(0.8354909), np.float32(1.1188363), np.float32(1.0897033), np.float32(-0.33384603), np.float32(-0.35288495), np.float32(-0.48382434), np.float32(0.10305477), np.float32(-0.2642437), np.float32(-0.2922911), np.float32(0.30803347), np.float32(1.4668739), np.float32(0.3551091), np.float32(0.0061452393), np.float32(-0.60752565), np.float32(0.3749743), np.float32(-0.6374776), np.float32(0.24423347), np.float32(-0.20004754), np.float32(0.27942425), np.float32(0.67685586), np.float32(-0.0795146), np.float32(-0.26957172), np.float32(-0.27004594), np.float32(0.24788748), np.float32(-0.48018846), np.float32(0.21375343), np.float32(0.103695616), np.float32(-0.29769337), np.float32(0.21647128), np.float32(0.52826387), np.float32(0.9257942), np.float32(0.06488454), np.float32(0.40396148), np.float32(0.9004524), np.float32(-0.49963722), np.float32(0.42297244), np.float32(-0.21133633), np.float32(-0.18193968), np.float32(1.4579057), np.float32(0.8265223), np.float32(0.8212553), np.float32(0.7541059), np.float32(0.32963446), np.float32(0.1978972), np.float32(0.47883767), np.float32(-0.18950047), np.float32(0.29005107), np.float32(-0.08913099), np.float32(0.5285723), np.float32(0.3312873), np.float32(0.4147247), np.float32(0.67856145), np.float32(1.0846297), np.float32(2.6675785), np.float32(-0.49736348), np.float32(0.2901241), np.float32(2.4514248), np.float32(0.13069674), np.float32(0.16222887), np.float32(1.1254973), np.float32(0.42303044), np.float32(0.3026637), np.float32(-0.51936334), np.float32(-0.36758792), np.float32(-0.34942126), np.float32(0.14686397), np.float32(-0.019145625), np.float32(-0.14604628), np.float32(-0.14697419), np.float32(-0.07791652), np.float32(-0.2820501), np.float32(-0.6926905), np.float32(1.0400457), np.float32(-0.050202508), np.float32(-0.17977421), np.float32(0.09724171), np.float32(-0.42059657), np.float32(-0.86768174), np.float32(-0.12415698), np.float32(0.23364708), np.float32(0.3646893), np.float32(-0.55937743), np.float32(0.3137967), np.float32(0.79823774), np.float32(-0.4101707), np.float32(0.8123508), np.float32(0.19306403), np.float32(-0.65021867), np.float32(0.03203916), np.float32(0.66173494), np.float32(-0.33026284), np.float32(0.48164475), np.float32(0.38864514), np.float32(-0.17053658), np.float32(-0.040515494), np.float32(0.4684443), np.float32(0.4703359), np.float32(0.60747856), np.float32(0.20871362), np.float32(-0.30273286), np.float32(0.07515336), np.float32(0.19340636), np.float32(0.15499534), np.float32(-0.51509994), np.float32(-0.54168206), np.float32(1.6776227), np.float32(0.42062673), np.float32(0.26861247), np.float32(-0.69273585), np.float32(0.25541842), np.float32(-0.45192412), np.float32(-0.07557108), np.float32(0.63265425), np.float32(-0.16447093), np.float32(-0.038849276), np.float32(-0.62573355), np.float32(-0.07415006), np.float32(-0.19903362), np.float32(-0.6837828), np.float32(1.8402171), np.float32(-0.20434311), np.float32(-0.826374), np.float32(0.25156048), np.float32(0.9166407), np.float32(0.017155271), np.float32(0.21834531), np.float32(0.26746523), np.float32(-0.3272041), np.float32(-0.1223837), np.float32(-0.049444694), np.float32(0.13378476), np.float32(-0.59945685), np.float32(0.6609644), np.float32(0.017908938), np.float32(0.37949795), np.float32(0.2057896), np.float32(-0.44950435), np.float32(0.8546214), np.float32(0.84175664), np.float32(0.39442948), np.float32(-0.042739127), np.float32(0.95587933), np.float32(0.67719287), np.float32(-0.20765205), np.float32(-0.03252246), np.float32(0.022238001), np.float32(0.092655316), np.float32(0.06254876), np.float32(0.2654721), np.float32(0.788436), np.float32(-1.4228655), np.float32(-0.63414687), np.float32(0.48892707), np.float32(0.36022002), np.float32(-0.6984898), np.float32(1.7668241), np.float32(0.01896487), np.float32(0.95705134), np.float32(0.008722565), np.float32(-0.37207282), np.float32(0.041826103), np.float32(-0.042797115), np.float32(0.12763661), np.float32(0.29609683), np.float32(-0.43975893), np.float32(0.96554005), np.float32(-0.48605272), np.float32(-0.6797178), np.float32(-0.50219), np.float32(-0.9715878), np.float32(-0.41356498), np.float32(0.04890805), np.float32(0.28477016), np.float32(1.0969193), np.float32(1.5013732), np.float32(0.1465363), np.float32(0.36786675), np.float32(0.57151467), np.float32(0.09738617), np.float32(0.5873751), np.float32(-0.11072373), np.float32(-0.033033412), np.float32(-0.21511719), np.float32(0.05123034), np.float32(0.51887965), np.float32(0.39328763), np.float32(0.008891094), np.float32(-0.29250404), np.float32(0.20195317), np.float32(0.3856937), np.float32(0.3418477), np.float32(-0.37811407), np.float32(-0.38540426), np.float32(0.07475984), np.float32(0.4118369), np.float32(0.026270896), np.float32(-0.011752848), np.float32(0.061554104), np.float32(-0.08336297), np.float32(-0.50637263), np.float32(0.19178441), np.float32(0.2888129), np.float32(0.1158629), np.float32(-0.6933181), np.float32(0.48236212), np.float32(-0.4059224), np.float32(-0.30038014), np.float32(-0.13216345), np.float32(1.3427235), np.float32(-0.24297643), np.float32(-0.28294584), np.float32(-0.54964757), np.float32(0.79970455), np.float32(0.11978563), np.float32(0.049721614), np.float32(0.17382151), np.float32(-0.6533747), np.float32(1.1645318), np.float32(0.099783726), np.float32(0.52463204), np.float32(3.4093702), np.float32(-0.22386855), np.float32(-0.6984867), np.float32(-0.24925096), np.float32(0.43198296), np.float32(3.216098), np.float32(0.2538521), np.float32(0.63218844), np.float32(-0.6448939), np.float32(-0.51896214), np.float32(0.61659247), np.float32(0.052077398), np.float32(-0.2605842), np.float32(0.527624), np.float32(-0.017550653), np.float32(1.0482106), np.float32(-0.35040978), np.float32(-0.80383337), np.float32(-0.8827803), np.float32(0.32724476), np.float32(-0.026906144), np.float32(1.0603771), np.float32(0.014906111), np.float32(0.20024931), np.float32(0.5928699), np.float32(-0.3054555), np.float32(1.1511388), np.float32(0.7444299), np.float32(0.429293), np.float32(-0.28805596), np.float32(-0.7861976), np.float32(-0.33042973), np.float32(2.548107), np.float32(2.0628319), np.float32(-0.14960699), np.float32(0.036520243), np.float32(0.38329744), np.float32(-0.7220453), np.float32(0.32264963), np.float32(-0.41561726), np.float32(-0.05647952), np.float32(0.3770444), np.float32(0.09057831), np.float32(0.02395298), np.float32(-0.62766796), np.float32(0.22092882), np.float32(-0.12746727), np.float32(0.20581637), np.float32(0.56557953), np.float32(-0.25722393), np.float32(-0.28467563), np.float32(0.45399073), np.float32(2.9935384), np.float32(-0.68765867), np.float32(-0.02792137), np.float32(0.39355758), np.float32(-0.15328865), np.float32(0.58871067), np.float32(-0.7287797), np.float32(-0.35099468), np.float32(-0.361854), np.float32(0.12901045), np.float32(-0.6767434), np.float32(-0.12953705), np.float32(-0.51672477), np.float32(-0.34770986), np.float32(0.24252655), np.float32(0.49746752), np.float32(0.17769508), np.float32(-0.5101131), np.float32(0.45856994), np.float32(-0.23320608), np.float32(-0.19060966), np.float32(-0.98218846), np.float32(-0.19175182), np.float32(-0.13840127), np.float32(0.88793373), np.float32(1.2636653), np.float32(0.08901377), np.float32(0.21604417), np.float32(-0.14977941), np.float32(0.27091795), np.float32(-0.4500234), np.float32(-0.41802487), np.float32(-0.3769685), np.float32(0.45082352), np.float32(0.38179168), np.float32(0.014056489), np.float32(-0.84852475), np.float32(0.02566345), np.float32(1.3553224), np.float32(-0.5836195), np.float32(1.5099088), np.float32(0.3037534), np.float32(0.08452035), np.float32(-0.30840024), np.float32(0.098464645), np.float32(-0.5443001), np.float32(0.65370864), np.float32(-0.21052988), np.float32(0.3535877), np.float32(-0.014846297), np.float32(0.15379912), np.float32(0.4230563), np.float32(0.060833953), np.float32(1.0203316), np.float32(0.082629), np.float32(-0.047856566), np.float32(0.31747934), np.float32(0.24166462), np.float32(-0.1614649), np.float32(0.28046873), np.float32(-0.07027726), np.float32(0.4962651), np.float32(0.1902473), np.float32(-0.4865521), np.float32(0.06494304), np.float32(0.62882906), np.float32(-0.2988439), np.float32(0.42232272), np.float32(0.20979314), np.float32(-0.6856948), np.float32(-0.23424865), np.float32(-0.08142416), np.float32(0.31062973), np.float32(0.6704613), np.float32(0.24304761), np.float32(1.2278616), np.float32(-0.2818319), np.float32(0.7544908), np.float32(0.82251763), np.float32(0.8199636), np.float32(-0.72167826), np.float32(0.0421902), np.float32(-0.13394098), np.float32(-0.1688855), np.float32(0.4061771), np.float32(-0.061464556), np.float32(-0.100038186), np.float32(1.2930386), np.float32(-0.21705641), np.float32(0.25306416), np.float32(-0.6148923), np.float32(-0.83955705), np.float32(0.035235595), np.float32(-0.48046434), np.float32(-0.23571552), np.float32(-0.6407417), np.float32(0.112645045), np.float32(-0.82791096), np.float32(-0.4217977), np.float32(0.09772819), np.float32(0.019961031), np.float32(0.18081282), np.float32(-0.30227217), np.float32(-0.29044995), np.float32(-0.78462905), np.float32(0.5926559), np.float32(0.037247974), np.float32(-0.47136733), np.float32(-0.367778), np.float32(-0.4332007), np.float32(-0.28399885), np.float32(-0.17924005), np.float32(-0.63473433), np.float32(-0.033659842), np.float32(-0.054435696), np.float32(-0.42872146), np.float32(-0.065970995), np.float32(0.30007526), np.float32(-0.18003258), np.float32(0.10569532), np.float32(0.34839574), np.float32(1.111542), np.float32(0.52203965), np.float32(-0.8444722), np.float32(0.9512116), np.float32(-0.1793654), np.float32(-0.6536053), np.float32(-0.087064825), np.float32(-0.7093945), np.float32(-0.34228596), np.float32(0.64979213), np.float32(-0.18254602), np.float32(-0.3662605), np.float32(-0.05468113), np.float32(-0.25852388), np.float32(0.19047455), np.float32(0.50968516), np.float32(-0.5313562), np.float32(0.12378284), np.float32(-0.09827302), np.float32(-0.45562625), np.float32(2.6139479), np.float32(-0.26470152), np.float32(0.44803607), np.float32(-0.32739785), np.float32(0.57825637), np.float32(0.35743392), np.float32(0.84586596), np.float32(1.134707), np.float32(0.06664184), np.float32(-0.18742926), np.float32(-0.2145462), np.float32(0.39851013), np.float32(-0.31161925), np.float32(0.13169597), np.float32(-0.75372136), np.float32(-0.46373177), np.float32(0.6588394), np.float32(-0.2569698), np.float32(-1.0171933), np.float32(-0.17359403), np.float32(-0.036382947), np.float32(0.28328353), np.float32(0.15883666), np.float32(0.36747527), np.float32(-0.93319184), np.float32(0.71129316), np.float32(-0.6910558), np.float32(0.22167265), np.float32(-0.062191), np.float32(0.74169046), np.float32(0.21931224), np.float32(0.46364695), np.float32(-0.0060797357)]\n"
          ]
        }
      ],
      "source": [
        "features = extract_wav2vec2_features('/root/.cache/kagglehub/datasets/uldisvalainis/audio-emotions/versions/1/Emotions/Angry/1080_IWL_ANG_XX.wav',shift_audio)\n",
        "print(list(features))"
      ]
    },
    {
      "cell_type": "code",
      "execution_count": null,
      "metadata": {
        "id": "9oo-PZrifkr3"
      },
      "outputs": [],
      "source": [
        "import random\n",
        "import os\n",
        "from tqdm import tqdm\n",
        "import pandas as pd\n",
        "augmentation_methods = [add_noise, time_stretch, pitch_shift, shift_audio, speed_change, amplitude_scaling]\n",
        "def process_audio_files(label, final_df, imbalance_factor=2):\n",
        "    \"\"\"\n",
        "    Process audio files, apply augmentation, and store extracted features in final_df.\n",
        "\n",
        "    Args:\n",
        "        label (str): The label (emotion) of the current audio files.\n",
        "        augmentation_methods (list): List of augmentation methods to choose from.\n",
        "        final_df (pandas.DataFrame): DataFrame where the features will be stored.\n",
        "        imbalance_factor (int, optional): Factor to increase the number of augmentations for underrepresented classes. Default is 2.\n",
        "\n",
        "    \"\"\"\n",
        "    label_path = os.path.join(DATASET_PATH, label)\n",
        "\n",
        "    # Count the current class size\n",
        "    current_class_size = len(os.listdir(label_path))\n",
        "    imbalance_factor = 1500//current_class_size + 1\n",
        "\n",
        "    # Loop through all audio files in the label folder\n",
        "    for file in tqdm(os.listdir(label_path), desc=f\"Processing {label_path.split('/')[-1]} audio\"):\n",
        "        if file.endswith(\".wav\"):\n",
        "            filepath = os.path.join(label_path, file)\n",
        "            try:\n",
        "\n",
        "                # Apply the augmentation method the appropriate number of times\n",
        "                selected_augmentations = random.sample(augmentation_methods, imbalance_factor)\n",
        "\n",
        "                # To address class imbalance, apply augmentations more often for underrepresented classes\n",
        "                for augmentation_fn in selected_augmentations:  # Adjust the number of augmentations\n",
        "                    augmentation_fn = random.choice(augmentation_methods)\n",
        "                    features = extract_wav2vec2_features(filepath, augmentation_fn)\n",
        "                    row = list(features) + [label, file]\n",
        "                    final_df.loc[len(final_df)] = row\n",
        "\n",
        "                # For the original audio (without augmentation), also extract features\n",
        "                features = extract_wav2vec2_features(filepath, None)  # None means no augmentation\n",
        "                row = list(features) + [label, file]\n",
        "                final_df.loc[len(final_df)] = row\n",
        "\n",
        "            except Exception as e:\n",
        "                print(f\"Error processing {filepath}: {e}\")\n"
      ]
    },
    {
      "cell_type": "code",
      "execution_count": null,
      "metadata": {
        "colab": {
          "base_uri": "https://localhost:8080/"
        },
        "id": "U-3kx63SYluP",
        "outputId": "2546d7b0-ae10-43f5-e8b6-8625c9396880"
      },
      "outputs": [
        {
          "name": "stderr",
          "output_type": "stream",
          "text": [
            "Processing Sad audio: 100%|██████████| 2167/2167 [07:08<00:00,  5.05it/s]\n"
          ]
        }
      ],
      "source": [
        "process_audio_files('Sad', final_df)"
      ]
    },
    {
      "cell_type": "code",
      "execution_count": null,
      "metadata": {
        "colab": {
          "base_uri": "https://localhost:8080/"
        },
        "id": "AaRqUrh5a_xm",
        "outputId": "3416e739-88e3-47c9-be65-bbf6bef1ddc2"
      },
      "outputs": [
        {
          "name": "stderr",
          "output_type": "stream",
          "text": [
            "Processing Angry audio: 100%|██████████| 2167/2167 [07:23<00:00,  4.89it/s]\n"
          ]
        }
      ],
      "source": [
        "process_audio_files('Angry', final_df)"
      ]
    },
    {
      "cell_type": "code",
      "execution_count": null,
      "metadata": {
        "colab": {
          "base_uri": "https://localhost:8080/"
        },
        "id": "Wh91xM5ubc5k",
        "outputId": "910e3f16-fdf9-465b-8841-671061cce410"
      },
      "outputs": [
        {
          "name": "stderr",
          "output_type": "stream",
          "text": [
            "Processing Happy audio:   8%|▊         | 163/2167 [00:32<05:41,  5.87it/s]"
          ]
        },
        {
          "name": "stdout",
          "output_type": "stream",
          "text": [
            "Error processing /root/.cache/kagglehub/datasets/uldisvalainis/audio-emotions/versions/1/Emotions/Happy/03-01-03-01-02-01-20.wav: cannot set a row with mismatched columns\n"
          ]
        },
        {
          "name": "stderr",
          "output_type": "stream",
          "text": [
            "Processing Happy audio: 100%|██████████| 2167/2167 [07:09<00:00,  5.05it/s]\n"
          ]
        }
      ],
      "source": [
        "process_audio_files('Happy', final_df)"
      ]
    },
    {
      "cell_type": "code",
      "execution_count": null,
      "metadata": {
        "colab": {
          "base_uri": "https://localhost:8080/"
        },
        "id": "GpHPtHR7bz39",
        "outputId": "9fb512ad-4e3e-4247-bbfe-372024b3c1af"
      },
      "outputs": [
        {
          "name": "stderr",
          "output_type": "stream",
          "text": [
            "Processing Neutral audio:  78%|███████▊  | 1395/1795 [04:39<01:01,  6.55it/s]"
          ]
        },
        {
          "name": "stdout",
          "output_type": "stream",
          "text": [
            "Error processing /root/.cache/kagglehub/datasets/uldisvalainis/audio-emotions/versions/1/Emotions/Neutral/03-02-01-01-01-01-24.wav: cannot set a row with mismatched columns\n"
          ]
        },
        {
          "name": "stderr",
          "output_type": "stream",
          "text": [
            "Processing Neutral audio: 100%|██████████| 1795/1795 [05:59<00:00,  4.99it/s]\n"
          ]
        }
      ],
      "source": [
        "process_audio_files('Neutral', final_df)"
      ]
    },
    {
      "cell_type": "code",
      "execution_count": null,
      "metadata": {
        "colab": {
          "base_uri": "https://localhost:8080/"
        },
        "id": "3Aydzyxcb7R6",
        "outputId": "3321f5af-fe0b-4cce-d2bd-60739e3a03c8"
      },
      "outputs": [
        {
          "name": "stderr",
          "output_type": "stream",
          "text": [
            "Processing Fearful audio:  38%|███▊      | 785/2047 [02:39<03:19,  6.33it/s]"
          ]
        },
        {
          "name": "stdout",
          "output_type": "stream",
          "text": [
            "Error processing /root/.cache/kagglehub/datasets/uldisvalainis/audio-emotions/versions/1/Emotions/Fearful/03-01-06-01-01-02-20.wav: cannot set a row with mismatched columns\n"
          ]
        },
        {
          "name": "stderr",
          "output_type": "stream",
          "text": [
            "Processing Fearful audio: 100%|██████████| 2047/2047 [06:58<00:00,  4.89it/s]\n"
          ]
        }
      ],
      "source": [
        "process_audio_files('Fearful', final_df)"
      ]
    },
    {
      "cell_type": "code",
      "execution_count": null,
      "metadata": {
        "colab": {
          "base_uri": "https://localhost:8080/"
        },
        "id": "_8BOYUe1cFBQ",
        "outputId": "6e6a18ec-97b0-49ff-acd0-35a64258fb52"
      },
      "outputs": [
        {
          "name": "stderr",
          "output_type": "stream",
          "text": [
            "Processing Disgusted audio: 100%|██████████| 1863/1863 [06:39<00:00,  4.67it/s]\n"
          ]
        }
      ],
      "source": [
        "process_audio_files('Disgusted', final_df)"
      ]
    },
    {
      "cell_type": "code",
      "execution_count": null,
      "metadata": {
        "colab": {
          "base_uri": "https://localhost:8080/"
        },
        "id": "COQHsaeFcOVT",
        "outputId": "95a592cd-6ddb-4111-f3fe-534a5f81a53f"
      },
      "outputs": [
        {
          "name": "stderr",
          "output_type": "stream",
          "text": [
            "Processing Suprised audio:   5%|▌         | 30/592 [00:13<04:22,  2.14it/s]"
          ]
        },
        {
          "name": "stdout",
          "output_type": "stream",
          "text": [
            "Error processing /root/.cache/kagglehub/datasets/uldisvalainis/audio-emotions/versions/1/Emotions/Suprised/03-01-08-01-02-02-01.wav: operands could not be broadcast together with shapes (2,156956) (2,) \n"
          ]
        },
        {
          "name": "stderr",
          "output_type": "stream",
          "text": [
            "Processing Suprised audio: 100%|██████████| 592/592 [04:36<00:00,  2.14it/s]\n"
          ]
        }
      ],
      "source": [
        "process_audio_files('Suprised', final_df)"
      ]
    },
    {
      "cell_type": "code",
      "execution_count": null,
      "metadata": {
        "colab": {
          "base_uri": "https://localhost:8080/"
        },
        "id": "9l6bQa_-bhaa",
        "outputId": "4c2c1976-f3c8-47ad-f921-2aa97db73ab0"
      },
      "outputs": [
        {
          "name": "stdout",
          "output_type": "stream",
          "text": [
            "      emb_0     emb_1     emb_2     emb_3     emb_4     emb_5     emb_6  \\\n",
            "0 -0.019871 -0.489701 -0.485183  0.572018  0.091871  0.124721 -0.802416   \n",
            "1  0.143948 -0.577538 -0.386115  0.575144  0.163283  0.079635 -0.753684   \n",
            "2 -0.091103 -0.404202 -0.446372  0.414922  0.199972  0.224317 -0.293779   \n",
            "3 -0.010729 -0.349528 -0.218807  0.234021  0.394668  0.215732 -0.188167   \n",
            "4  0.019155 -0.295603 -0.801150  0.114177  0.083787  0.139823 -0.703317   \n",
            "\n",
            "      emb_7     emb_8     emb_9  ...   emb_504   emb_505   emb_506   emb_507  \\\n",
            "0 -0.537673 -0.982134  2.518576  ...  6.242934  0.597229  0.964443 -0.937575   \n",
            "1 -0.283638 -0.879207  2.528324  ...  5.565686  0.086005  0.937819 -0.907691   \n",
            "2 -0.728123 -0.632390 -0.233443  ...  1.308085 -0.417241  0.272873 -0.524746   \n",
            "3 -0.560032 -0.758080 -0.310106  ...  0.557640 -0.446366  0.395144 -0.723342   \n",
            "4 -0.077439  0.405997  0.917695  ...  1.636819  0.779013  0.588947 -0.487659   \n",
            "\n",
            "    emb_508   emb_509   emb_510   emb_511  label                  filename  \n",
            "0 -0.025889  0.223153 -0.810207  0.601224    Sad       1020_TIE_SAD_XX.wav  \n",
            "1 -0.032193  0.183613 -0.952842  0.424901    Sad       1020_TIE_SAD_XX.wav  \n",
            "2  0.200859  0.197339  0.625258 -0.042934    Sad  03-01-04-01-02-02-15.wav  \n",
            "3  0.138095  0.202078  0.327301 -0.099500    Sad  03-01-04-01-02-02-15.wav  \n",
            "4  0.440531  0.295890 -0.629636  0.365785    Sad          YAF_food_sad.wav  \n",
            "\n",
            "[5 rows x 514 columns]\n",
            "(26770, 514)\n",
            "<class 'pandas.core.frame.DataFrame'>\n",
            "Index: 26770 entries, 0 to 26769\n",
            "Columns: 514 entries, emb_0 to filename\n",
            "dtypes: float32(512), object(2)\n",
            "memory usage: 52.9+ MB\n",
            "None\n"
          ]
        }
      ],
      "source": [
        "print(final_df.head())\n",
        "print(final_df.shape)\n",
        "print(final_df.info())"
      ]
    },
    {
      "cell_type": "code",
      "execution_count": null,
      "metadata": {
        "colab": {
          "base_uri": "https://localhost:8080/"
        },
        "id": "WC3VcYMaZCfl",
        "outputId": "444a6152-5cbe-480e-a930-da4373565e75"
      },
      "outputs": [
        {
          "name": "stdout",
          "output_type": "stream",
          "text": [
            "\n",
            "✅ Feature extraction complete. Saved to wav2vec2_features.csv\n"
          ]
        }
      ],
      "source": [
        "final_df.to_csv(OUTPUT_CSV, index=False)\n",
        "print(f\"\\n✅ Feature extraction complete. Saved to {OUTPUT_CSV}\")"
      ]
    },
    {
      "cell_type": "code",
      "execution_count": null,
      "metadata": {
        "id": "1ddY3kUOkOF6"
      },
      "outputs": [],
      "source": [
        "import pandas as pd\n",
        "import numpy as np\n",
        "from sklearn.model_selection import train_test_split\n",
        "from sklearn.preprocessing import LabelEncoder, OneHotEncoder, StandardScaler\n",
        "from sklearn.metrics import classification_report, confusion_matrix\n",
        "from tensorflow.keras.models import Sequential\n",
        "from tensorflow.keras.layers import Dense, Dropout\n",
        "from tensorflow.keras.utils import to_categorical\n",
        "import matplotlib.pyplot as plt\n",
        "import seaborn as sns\n",
        "from sklearn.preprocessing import OneHotEncoder"
      ]
    },
    {
      "cell_type": "code",
      "execution_count": null,
      "metadata": {
        "id": "cBhEvbl4kxu4"
      },
      "outputs": [],
      "source": [
        "df = pd.read_csv(\"/content/wav2vec2_features (1).csv\")\n",
        "\n",
        "# 2. Prepare features and labels\n",
        "X = df.iloc[:, :-2].values  # All embedding columns\n",
        "y = df[\"label\"].values"
      ]
    },
    {
      "cell_type": "code",
      "execution_count": null,
      "metadata": {
        "id": "R8aDDT4zk10B"
      },
      "outputs": [],
      "source": [
        "from sklearn.preprocessing import OneHotEncoder\n",
        "\n",
        "# Reshape to 2D array for OneHotEncoder\n",
        "y = y.reshape(-1, 1) if isinstance(y, np.ndarray) else np.array(y).reshape(-1, 1)\n",
        "\n",
        "# Initialize encoder\n",
        "onehot_encoder = OneHotEncoder(sparse_output=False)\n",
        "y_onehot = onehot_encoder.fit_transform(y)\n",
        "\n",
        "# Store class labels\n",
        "class_labels = onehot_encoder.categories_[0]"
      ]
    },
    {
      "cell_type": "code",
      "source": [
        "print(class_labels)"
      ],
      "metadata": {
        "colab": {
          "base_uri": "https://localhost:8080/"
        },
        "id": "F2Dcsb04ey3p",
        "outputId": "1ec95b74-bb5d-4440-815c-6068cdec01ef"
      },
      "execution_count": null,
      "outputs": [
        {
          "output_type": "stream",
          "name": "stdout",
          "text": [
            "['Angry' 'Disgusted' 'Fearful' 'Happy' 'Neutral' 'Sad' 'Suprised']\n"
          ]
        }
      ]
    },
    {
      "cell_type": "code",
      "execution_count": null,
      "metadata": {
        "colab": {
          "base_uri": "https://localhost:8080/",
          "height": 532
        },
        "id": "vfNdcdKdXozN",
        "outputId": "8d7f982e-b9cc-43a6-fea4-3bf0c95a82f6"
      },
      "outputs": [
        {
          "output_type": "display_data",
          "data": {
            "text/plain": [
              "<Figure size 800x500 with 1 Axes>"
            ],
            "image/png": "[encoded data removed]"
          },
          "metadata": {}
        }
      ],
      "source": [
        "plt.figure(figsize=(8,5))\n",
        "sns.countplot(data=df, x='label')\n",
        "plt.title(\"Distribution of Emotion Classes\")\n",
        "plt.xticks(rotation=45)\n",
        "plt.show()\n",
        "\n"
      ]
    },
    {
      "cell_type": "code",
      "execution_count": null,
      "metadata": {
        "id": "xjzexeYZlCYX"
      },
      "outputs": [],
      "source": [
        "scaler = StandardScaler()\n",
        "X_scaled = scaler.fit_transform(X)\n"
      ]
    },
    {
      "cell_type": "code",
      "execution_count": null,
      "metadata": {
        "id": "RAzPaIUAlMX5"
      },
      "outputs": [],
      "source": [
        "X_train, X_test, y_train, y_test = train_test_split(X_scaled, y_onehot, test_size=0.3, random_state=1, stratify=y_onehot)"
      ]
    },
    {
      "cell_type": "code",
      "execution_count": null,
      "metadata": {
        "colab": {
          "base_uri": "https://localhost:8080/"
        },
        "id": "1jjr-2_GnQpn",
        "outputId": "c77ba852-eb3e-4e60-8892-f76e2a0cb139"
      },
      "outputs": [
        {
          "output_type": "execute_result",
          "data": {
            "text/plain": [
              "((18739, 512), (8031, 512), (18739, 7), (8031, 7))"
            ]
          },
          "metadata": {},
          "execution_count": 7
        }
      ],
      "source": [
        "X_train.shape, X_test.shape, y_train.shape, y_test.shape"
      ]
    },
    {
      "cell_type": "code",
      "execution_count": null,
      "metadata": {
        "colab": {
          "base_uri": "https://localhost:8080/",
          "height": 735
        },
        "id": "Tpo908utlOHF",
        "outputId": "3f0bd96e-f88f-4fc2-989a-7bd9a8bfe23d"
      },
      "outputs": [
        {
          "output_type": "stream",
          "name": "stderr",
          "text": [
            "/usr/local/lib/python3.11/dist-packages/keras/src/layers/core/dense.py:87: UserWarning: Do not pass an `input_shape`/`input_dim` argument to a layer. When using Sequential models, prefer using an `Input(shape)` object as the first layer in the model instead.\n",
            "  super().__init__(activity_regularizer=activity_regularizer, **kwargs)\n"
          ]
        },
        {
          "output_type": "display_data",
          "data": {
            "text/plain": [
              "\u001b[1mModel: \"sequential\"\u001b[0m\n"
            ],
            "text/html": [
              "<pre style=\"white-space:pre;overflow-x:auto;line-height:normal;font-family:Menlo,'DejaVu Sans Mono',consolas,'Courier New',monospace\"><span style=\"font-weight: bold\">Model: \"sequential\"</span>\n",
              "</pre>\n"
            ]
          },
          "metadata": {}
        },
        {
          "output_type": "display_data",
          "data": {
            "text/plain": [
              "┏━━━━━━━━━━━━━━━━━━━━━━━━━━━━━━━━━┳━━━━━━━━━━━━━━━━━━━━━━━━┳━━━━━━━━━━━━━━━┓\n",
              "┃\u001b[1m \u001b[0m\u001b[1mLayer (type)                   \u001b[0m\u001b[1m \u001b[0m┃\u001b[1m \u001b[0m\u001b[1mOutput Shape          \u001b[0m\u001b[1m \u001b[0m┃\u001b[1m \u001b[0m\u001b[1m      Param #\u001b[0m\u001b[1m \u001b[0m┃\n",
              "┡━━━━━━━━━━━━━━━━━━━━━━━━━━━━━━━━━╇━━━━━━━━━━━━━━━━━━━━━━━━╇━━━━━━━━━━━━━━━┩\n",
              "│ dense (\u001b[38;5;33mDense\u001b[0m)                   │ (\u001b[38;5;45mNone\u001b[0m, \u001b[38;5;34m256\u001b[0m)            │       \u001b[38;5;34m131,328\u001b[0m │\n",
              "├─────────────────────────────────┼────────────────────────┼───────────────┤\n",
              "│ dropout (\u001b[38;5;33mDropout\u001b[0m)               │ (\u001b[38;5;45mNone\u001b[0m, \u001b[38;5;34m256\u001b[0m)            │             \u001b[38;5;34m0\u001b[0m │\n",
              "├─────────────────────────────────┼────────────────────────┼───────────────┤\n",
              "│ dense_1 (\u001b[38;5;33mDense\u001b[0m)                 │ (\u001b[38;5;45mNone\u001b[0m, \u001b[38;5;34m256\u001b[0m)            │        \u001b[38;5;34m65,792\u001b[0m │\n",
              "├─────────────────────────────────┼────────────────────────┼───────────────┤\n",
              "│ dropout_1 (\u001b[38;5;33mDropout\u001b[0m)             │ (\u001b[38;5;45mNone\u001b[0m, \u001b[38;5;34m256\u001b[0m)            │             \u001b[38;5;34m0\u001b[0m │\n",
              "├─────────────────────────────────┼────────────────────────┼───────────────┤\n",
              "│ dense_2 (\u001b[38;5;33mDense\u001b[0m)                 │ (\u001b[38;5;45mNone\u001b[0m, \u001b[38;5;34m128\u001b[0m)            │        \u001b[38;5;34m32,896\u001b[0m │\n",
              "├─────────────────────────────────┼────────────────────────┼───────────────┤\n",
              "│ dropout_2 (\u001b[38;5;33mDropout\u001b[0m)             │ (\u001b[38;5;45mNone\u001b[0m, \u001b[38;5;34m128\u001b[0m)            │             \u001b[38;5;34m0\u001b[0m │\n",
              "├─────────────────────────────────┼────────────────────────┼───────────────┤\n",
              "│ dense_3 (\u001b[38;5;33mDense\u001b[0m)                 │ (\u001b[38;5;45mNone\u001b[0m, \u001b[38;5;34m128\u001b[0m)            │        \u001b[38;5;34m16,512\u001b[0m │\n",
              "├─────────────────────────────────┼────────────────────────┼───────────────┤\n",
              "│ dropout_3 (\u001b[38;5;33mDropout\u001b[0m)             │ (\u001b[38;5;45mNone\u001b[0m, \u001b[38;5;34m128\u001b[0m)            │             \u001b[38;5;34m0\u001b[0m │\n",
              "├─────────────────────────────────┼────────────────────────┼───────────────┤\n",
              "│ dense_4 (\u001b[38;5;33mDense\u001b[0m)                 │ (\u001b[38;5;45mNone\u001b[0m, \u001b[38;5;34m128\u001b[0m)            │        \u001b[38;5;34m16,512\u001b[0m │\n",
              "├─────────────────────────────────┼────────────────────────┼───────────────┤\n",
              "│ dropout_4 (\u001b[38;5;33mDropout\u001b[0m)             │ (\u001b[38;5;45mNone\u001b[0m, \u001b[38;5;34m128\u001b[0m)            │             \u001b[38;5;34m0\u001b[0m │\n",
              "├─────────────────────────────────┼────────────────────────┼───────────────┤\n",
              "│ dense_5 (\u001b[38;5;33mDense\u001b[0m)                 │ (\u001b[38;5;45mNone\u001b[0m, \u001b[38;5;34m64\u001b[0m)             │         \u001b[38;5;34m8,256\u001b[0m │\n",
              "├─────────────────────────────────┼────────────────────────┼───────────────┤\n",
              "│ dropout_5 (\u001b[38;5;33mDropout\u001b[0m)             │ (\u001b[38;5;45mNone\u001b[0m, \u001b[38;5;34m64\u001b[0m)             │             \u001b[38;5;34m0\u001b[0m │\n",
              "├─────────────────────────────────┼────────────────────────┼───────────────┤\n",
              "│ dense_6 (\u001b[38;5;33mDense\u001b[0m)                 │ (\u001b[38;5;45mNone\u001b[0m, \u001b[38;5;34m64\u001b[0m)             │         \u001b[38;5;34m4,160\u001b[0m │\n",
              "├─────────────────────────────────┼────────────────────────┼───────────────┤\n",
              "│ dense_7 (\u001b[38;5;33mDense\u001b[0m)                 │ (\u001b[38;5;45mNone\u001b[0m, \u001b[38;5;34m64\u001b[0m)             │         \u001b[38;5;34m4,160\u001b[0m │\n",
              "├─────────────────────────────────┼────────────────────────┼───────────────┤\n",
              "│ dense_8 (\u001b[38;5;33mDense\u001b[0m)                 │ (\u001b[38;5;45mNone\u001b[0m, \u001b[38;5;34m32\u001b[0m)             │         \u001b[38;5;34m2,080\u001b[0m │\n",
              "├─────────────────────────────────┼────────────────────────┼───────────────┤\n",
              "│ dense_9 (\u001b[38;5;33mDense\u001b[0m)                 │ (\u001b[38;5;45mNone\u001b[0m, \u001b[38;5;34m7\u001b[0m)              │           \u001b[38;5;34m231\u001b[0m │\n",
              "└─────────────────────────────────┴────────────────────────┴───────────────┘\n"
            ],
            "text/html": [
              "<pre style=\"white-space:pre;overflow-x:auto;line-height:normal;font-family:Menlo,'DejaVu Sans Mono',consolas,'Courier New',monospace\">┏━━━━━━━━━━━━━━━━━━━━━━━━━━━━━━━━━┳━━━━━━━━━━━━━━━━━━━━━━━━┳━━━━━━━━━━━━━━━┓\n",
              "┃<span style=\"font-weight: bold\"> Layer (type)                    </span>┃<span style=\"font-weight: bold\"> Output Shape           </span>┃<span style=\"font-weight: bold\">       Param # </span>┃\n",
              "┡━━━━━━━━━━━━━━━━━━━━━━━━━━━━━━━━━╇━━━━━━━━━━━━━━━━━━━━━━━━╇━━━━━━━━━━━━━━━┩\n",
              "│ dense (<span style=\"color: #0087ff; text-decoration-color: #0087ff\">Dense</span>)                   │ (<span style=\"color: #00d7ff; text-decoration-color: #00d7ff\">None</span>, <span style=\"color: #00af00; text-decoration-color: #00af00\">256</span>)            │       <span style=\"color: #00af00; text-decoration-color: #00af00\">131,328</span> │\n",
              "├─────────────────────────────────┼────────────────────────┼───────────────┤\n",
              "│ dropout (<span style=\"color: #0087ff; text-decoration-color: #0087ff\">Dropout</span>)               │ (<span style=\"color: #00d7ff; text-decoration-color: #00d7ff\">None</span>, <span style=\"color: #00af00; text-decoration-color: #00af00\">256</span>)            │             <span style=\"color: #00af00; text-decoration-color: #00af00\">0</span> │\n",
              "├─────────────────────────────────┼────────────────────────┼───────────────┤\n",
              "│ dense_1 (<span style=\"color: #0087ff; text-decoration-color: #0087ff\">Dense</span>)                 │ (<span style=\"color: #00d7ff; text-decoration-color: #00d7ff\">None</span>, <span style=\"color: #00af00; text-decoration-color: #00af00\">256</span>)            │        <span style=\"color: #00af00; text-decoration-color: #00af00\">65,792</span> │\n",
              "├─────────────────────────────────┼────────────────────────┼───────────────┤\n",
              "│ dropout_1 (<span style=\"color: #0087ff; text-decoration-color: #0087ff\">Dropout</span>)             │ (<span style=\"color: #00d7ff; text-decoration-color: #00d7ff\">None</span>, <span style=\"color: #00af00; text-decoration-color: #00af00\">256</span>)            │             <span style=\"color: #00af00; text-decoration-color: #00af00\">0</span> │\n",
              "├─────────────────────────────────┼────────────────────────┼───────────────┤\n",
              "│ dense_2 (<span style=\"color: #0087ff; text-decoration-color: #0087ff\">Dense</span>)                 │ (<span style=\"color: #00d7ff; text-decoration-color: #00d7ff\">None</span>, <span style=\"color: #00af00; text-decoration-color: #00af00\">128</span>)            │        <span style=\"color: #00af00; text-decoration-color: #00af00\">32,896</span> │\n",
              "├─────────────────────────────────┼────────────────────────┼───────────────┤\n",
              "│ dropout_2 (<span style=\"color: #0087ff; text-decoration-color: #0087ff\">Dropout</span>)             │ (<span style=\"color: #00d7ff; text-decoration-color: #00d7ff\">None</span>, <span style=\"color: #00af00; text-decoration-color: #00af00\">128</span>)            │             <span style=\"color: #00af00; text-decoration-color: #00af00\">0</span> │\n",
              "├─────────────────────────────────┼────────────────────────┼───────────────┤\n",
              "│ dense_3 (<span style=\"color: #0087ff; text-decoration-color: #0087ff\">Dense</span>)                 │ (<span style=\"color: #00d7ff; text-decoration-color: #00d7ff\">None</span>, <span style=\"color: #00af00; text-decoration-color: #00af00\">128</span>)            │        <span style=\"color: #00af00; text-decoration-color: #00af00\">16,512</span> │\n",
              "├─────────────────────────────────┼────────────────────────┼───────────────┤\n",
              "│ dropout_3 (<span style=\"color: #0087ff; text-decoration-color: #0087ff\">Dropout</span>)             │ (<span style=\"color: #00d7ff; text-decoration-color: #00d7ff\">None</span>, <span style=\"color: #00af00; text-decoration-color: #00af00\">128</span>)            │             <span style=\"color: #00af00; text-decoration-color: #00af00\">0</span> │\n",
              "├─────────────────────────────────┼────────────────────────┼───────────────┤\n",
              "│ dense_4 (<span style=\"color: #0087ff; text-decoration-color: #0087ff\">Dense</span>)                 │ (<span style=\"color: #00d7ff; text-decoration-color: #00d7ff\">None</span>, <span style=\"color: #00af00; text-decoration-color: #00af00\">128</span>)            │        <span style=\"color: #00af00; text-decoration-color: #00af00\">16,512</span> │\n",
              "├─────────────────────────────────┼────────────────────────┼───────────────┤\n",
              "│ dropout_4 (<span style=\"color: #0087ff; text-decoration-color: #0087ff\">Dropout</span>)             │ (<span style=\"color: #00d7ff; text-decoration-color: #00d7ff\">None</span>, <span style=\"color: #00af00; text-decoration-color: #00af00\">128</span>)            │             <span style=\"color: #00af00; text-decoration-color: #00af00\">0</span> │\n",
              "├─────────────────────────────────┼────────────────────────┼───────────────┤\n",
              "│ dense_5 (<span style=\"color: #0087ff; text-decoration-color: #0087ff\">Dense</span>)                 │ (<span style=\"color: #00d7ff; text-decoration-color: #00d7ff\">None</span>, <span style=\"color: #00af00; text-decoration-color: #00af00\">64</span>)             │         <span style=\"color: #00af00; text-decoration-color: #00af00\">8,256</span> │\n",
              "├─────────────────────────────────┼────────────────────────┼───────────────┤\n",
              "│ dropout_5 (<span style=\"color: #0087ff; text-decoration-color: #0087ff\">Dropout</span>)             │ (<span style=\"color: #00d7ff; text-decoration-color: #00d7ff\">None</span>, <span style=\"color: #00af00; text-decoration-color: #00af00\">64</span>)             │             <span style=\"color: #00af00; text-decoration-color: #00af00\">0</span> │\n",
              "├─────────────────────────────────┼────────────────────────┼───────────────┤\n",
              "│ dense_6 (<span style=\"color: #0087ff; text-decoration-color: #0087ff\">Dense</span>)                 │ (<span style=\"color: #00d7ff; text-decoration-color: #00d7ff\">None</span>, <span style=\"color: #00af00; text-decoration-color: #00af00\">64</span>)             │         <span style=\"color: #00af00; text-decoration-color: #00af00\">4,160</span> │\n",
              "├─────────────────────────────────┼────────────────────────┼───────────────┤\n",
              "│ dense_7 (<span style=\"color: #0087ff; text-decoration-color: #0087ff\">Dense</span>)                 │ (<span style=\"color: #00d7ff; text-decoration-color: #00d7ff\">None</span>, <span style=\"color: #00af00; text-decoration-color: #00af00\">64</span>)             │         <span style=\"color: #00af00; text-decoration-color: #00af00\">4,160</span> │\n",
              "├─────────────────────────────────┼────────────────────────┼───────────────┤\n",
              "│ dense_8 (<span style=\"color: #0087ff; text-decoration-color: #0087ff\">Dense</span>)                 │ (<span style=\"color: #00d7ff; text-decoration-color: #00d7ff\">None</span>, <span style=\"color: #00af00; text-decoration-color: #00af00\">32</span>)             │         <span style=\"color: #00af00; text-decoration-color: #00af00\">2,080</span> │\n",
              "├─────────────────────────────────┼────────────────────────┼───────────────┤\n",
              "│ dense_9 (<span style=\"color: #0087ff; text-decoration-color: #0087ff\">Dense</span>)                 │ (<span style=\"color: #00d7ff; text-decoration-color: #00d7ff\">None</span>, <span style=\"color: #00af00; text-decoration-color: #00af00\">7</span>)              │           <span style=\"color: #00af00; text-decoration-color: #00af00\">231</span> │\n",
              "└─────────────────────────────────┴────────────────────────┴───────────────┘\n",
              "</pre>\n"
            ]
          },
          "metadata": {}
        },
        {
          "output_type": "display_data",
          "data": {
            "text/plain": [
              "\u001b[1m Total params: \u001b[0m\u001b[38;5;34m281,927\u001b[0m (1.08 MB)\n"
            ],
            "text/html": [
              "<pre style=\"white-space:pre;overflow-x:auto;line-height:normal;font-family:Menlo,'DejaVu Sans Mono',consolas,'Courier New',monospace\"><span style=\"font-weight: bold\"> Total params: </span><span style=\"color: #00af00; text-decoration-color: #00af00\">281,927</span> (1.08 MB)\n",
              "</pre>\n"
            ]
          },
          "metadata": {}
        },
        {
          "output_type": "display_data",
          "data": {
            "text/plain": [
              "\u001b[1m Trainable params: \u001b[0m\u001b[38;5;34m281,927\u001b[0m (1.08 MB)\n"
            ],
            "text/html": [
              "<pre style=\"white-space:pre;overflow-x:auto;line-height:normal;font-family:Menlo,'DejaVu Sans Mono',consolas,'Courier New',monospace\"><span style=\"font-weight: bold\"> Trainable params: </span><span style=\"color: #00af00; text-decoration-color: #00af00\">281,927</span> (1.08 MB)\n",
              "</pre>\n"
            ]
          },
          "metadata": {}
        },
        {
          "output_type": "display_data",
          "data": {
            "text/plain": [
              "\u001b[1m Non-trainable params: \u001b[0m\u001b[38;5;34m0\u001b[0m (0.00 B)\n"
            ],
            "text/html": [
              "<pre style=\"white-space:pre;overflow-x:auto;line-height:normal;font-family:Menlo,'DejaVu Sans Mono',consolas,'Courier New',monospace\"><span style=\"font-weight: bold\"> Non-trainable params: </span><span style=\"color: #00af00; text-decoration-color: #00af00\">0</span> (0.00 B)\n",
              "</pre>\n"
            ]
          },
          "metadata": {}
        }
      ],
      "source": [
        "model = Sequential()\n",
        "model.add(Dense(256, input_shape=(X_train.shape[1],), activation='relu'))\n",
        "model.add(Dropout(0.3))\n",
        "model.add(Dense(256, activation='relu'))\n",
        "model.add(Dropout(0.3))\n",
        "model.add(Dense(128, activation='relu'))\n",
        "model.add(Dropout(0.3))\n",
        "model.add(Dense(128, activation='relu'))\n",
        "model.add(Dropout(0.3))\n",
        "model.add(Dense(128, activation='relu'))\n",
        "model.add(Dropout(0.2))\n",
        "model.add(Dense(64, activation='relu'))\n",
        "model.add(Dropout(0.2))\n",
        "model.add(Dense(64, activation='relu'))\n",
        "model.add(Dense(64, activation='relu'))\n",
        "model.add(Dense(32, activation='relu'))\n",
        "model.add(Dense(y_train.shape[1], activation='softmax'))\n",
        "\n",
        "model.compile(optimizer='adam', loss='categorical_crossentropy', metrics=['accuracy'])\n",
        "model.summary()"
      ]
    },
    {
      "cell_type": "code",
      "execution_count": null,
      "metadata": {
        "colab": {
          "base_uri": "https://localhost:8080/"
        },
        "id": "14mNgsaDlQpk",
        "outputId": "c6df305a-a72c-486f-997f-c327a6b867ce"
      },
      "outputs": [
        {
          "output_type": "stream",
          "name": "stdout",
          "text": [
            "Epoch 1/10\n",
            "\u001b[1m293/293\u001b[0m \u001b[32m━━━━━━━━━━━━━━━━━━━━\u001b[0m\u001b[37m\u001b[0m \u001b[1m1s\u001b[0m 4ms/step - accuracy: 0.8478 - loss: 0.4269 - val_accuracy: 0.7929 - val_loss: 0.6212\n",
            "Epoch 2/10\n",
            "\u001b[1m293/293\u001b[0m \u001b[32m━━━━━━━━━━━━━━━━━━━━\u001b[0m\u001b[37m\u001b[0m \u001b[1m2s\u001b[0m 5ms/step - accuracy: 0.8608 - loss: 0.4028 - val_accuracy: 0.7919 - val_loss: 0.6111\n",
            "Epoch 3/10\n",
            "\u001b[1m293/293\u001b[0m \u001b[32m━━━━━━━━━━━━━━━━━━━━\u001b[0m\u001b[37m\u001b[0m \u001b[1m2s\u001b[0m 5ms/step - accuracy: 0.8572 - loss: 0.4149 - val_accuracy: 0.7927 - val_loss: 0.6185\n",
            "Epoch 4/10\n",
            "\u001b[1m293/293\u001b[0m \u001b[32m━━━━━━━━━━━━━━━━━━━━\u001b[0m\u001b[37m\u001b[0m \u001b[1m1s\u001b[0m 4ms/step - accuracy: 0.8622 - loss: 0.4108 - val_accuracy: 0.7903 - val_loss: 0.6069\n",
            "Epoch 5/10\n",
            "\u001b[1m293/293\u001b[0m \u001b[32m━━━━━━━━━━━━━━━━━━━━\u001b[0m\u001b[37m\u001b[0m \u001b[1m1s\u001b[0m 4ms/step - accuracy: 0.8528 - loss: 0.4266 - val_accuracy: 0.7919 - val_loss: 0.6186\n",
            "Epoch 6/10\n",
            "\u001b[1m293/293\u001b[0m \u001b[32m━━━━━━━━━━━━━━━━━━━━\u001b[0m\u001b[37m\u001b[0m \u001b[1m1s\u001b[0m 4ms/step - accuracy: 0.8528 - loss: 0.4186 - val_accuracy: 0.7856 - val_loss: 0.6476\n",
            "Epoch 7/10\n",
            "\u001b[1m293/293\u001b[0m \u001b[32m━━━━━━━━━━━━━━━━━━━━\u001b[0m\u001b[37m\u001b[0m \u001b[1m1s\u001b[0m 4ms/step - accuracy: 0.8628 - loss: 0.4045 - val_accuracy: 0.7898 - val_loss: 0.6439\n",
            "Epoch 8/10\n",
            "\u001b[1m293/293\u001b[0m \u001b[32m━━━━━━━━━━━━━━━━━━━━\u001b[0m\u001b[37m\u001b[0m \u001b[1m1s\u001b[0m 4ms/step - accuracy: 0.8602 - loss: 0.4119 - val_accuracy: 0.7949 - val_loss: 0.6205\n",
            "Epoch 9/10\n",
            "\u001b[1m293/293\u001b[0m \u001b[32m━━━━━━━━━━━━━━━━━━━━\u001b[0m\u001b[37m\u001b[0m \u001b[1m2s\u001b[0m 6ms/step - accuracy: 0.8601 - loss: 0.3924 - val_accuracy: 0.7888 - val_loss: 0.6395\n",
            "Epoch 10/10\n",
            "\u001b[1m293/293\u001b[0m \u001b[32m━━━━━━━━━━━━━━━━━━━━\u001b[0m\u001b[37m\u001b[0m \u001b[1m1s\u001b[0m 4ms/step - accuracy: 0.8620 - loss: 0.4000 - val_accuracy: 0.7944 - val_loss: 0.6242\n"
          ]
        }
      ],
      "source": [
        "history = model.fit(X_train, y_train, validation_data=(X_test, y_test), epochs=10, batch_size=64)"
      ]
    },
    {
      "cell_type": "code",
      "source": [
        "model.save('emotion_model_final.h5')"
      ],
      "metadata": {
        "colab": {
          "base_uri": "https://localhost:8080/"
        },
        "id": "GcBUyqeTgI6V",
        "outputId": "7a90d6e9-7586-4c07-b9b1-91e4b6f33ea5"
      },
      "execution_count": null,
      "outputs": [
        {
          "output_type": "stream",
          "name": "stderr",
          "text": [
            "WARNING:absl:You are saving your model as an HDF5 file via `model.save()` or `keras.saving.save_model(model)`. This file format is considered legacy. We recommend using instead the native Keras format, e.g. `model.save('my_model.keras')` or `keras.saving.save_model(model, 'my_model.keras')`. \n"
          ]
        }
      ]
    },
    {
      "cell_type": "code",
      "source": [
        "model.save('emotion_model_final.keras')"
      ],
      "metadata": {
        "id": "8aMtasLYgcmr"
      },
      "execution_count": null,
      "outputs": []
    },
    {
      "cell_type": "code",
      "execution_count": null,
      "metadata": {
        "id": "4A9tnNWFVR6H",
        "colab": {
          "base_uri": "https://localhost:8080/",
          "height": 484
        },
        "outputId": "e50dbfff-76ea-4f47-d0cf-df09dd831892"
      },
      "outputs": [
        {
          "output_type": "display_data",
          "data": {
            "text/plain": [
              "<Figure size 1200x600 with 2 Axes>"
            ],
            "image/png": "[encoded data removed]"
          },
          "metadata": {}
        }
      ],
      "source": [
        "plt.figure(figsize=(12, 6))\n",
        "plt.subplot(1, 2, 1)\n",
        "plt.plot(history.history['loss'], label='Training Loss')\n",
        "plt.plot(history.history['val_loss'], label='Validation Loss')\n",
        "plt.title('Loss during training')\n",
        "plt.xlabel('Epochs')\n",
        "plt.ylabel('Loss')\n",
        "plt.legend()\n",
        "\n",
        "# Visualizing the training and validation accuracy\n",
        "plt.subplot(1, 2, 2)\n",
        "plt.plot(history.history['accuracy'], label='Training Accuracy')\n",
        "plt.plot(history.history['val_accuracy'], label='Validation Accuracy')\n",
        "plt.title('Accuracy during training')\n",
        "plt.xlabel('Epochs')\n",
        "plt.ylabel('Accuracy')\n",
        "plt.legend()\n",
        "\n",
        "plt.tight_layout()\n",
        "plt.show()"
      ]
    },
    {
      "cell_type": "code",
      "execution_count": null,
      "metadata": {
        "colab": {
          "base_uri": "https://localhost:8080/"
        },
        "id": "XK-lulZMmw7o",
        "outputId": "517b003b-8675-4855-b4ba-b621872f4edc"
      },
      "outputs": [
        {
          "output_type": "stream",
          "name": "stdout",
          "text": [
            "\u001b[1m251/251\u001b[0m \u001b[32m━━━━━━━━━━━━━━━━━━━━\u001b[0m\u001b[37m\u001b[0m \u001b[1m1s\u001b[0m 2ms/step\n",
            "              precision    recall  f1-score   support\n",
            "\n",
            "       Angry       0.90      0.83      0.86      1300\n",
            "   Disgusted       0.62      0.70      0.66      1118\n",
            "     Fearful       0.78      0.64      0.70      1228\n",
            "       Happy       0.78      0.73      0.75      1300\n",
            "     Neutral       0.67      0.84      0.74      1076\n",
            "         Sad       0.74      0.69      0.72      1300\n",
            "    Suprised       0.87      0.98      0.92       709\n",
            "\n",
            "    accuracy                           0.76      8031\n",
            "   macro avg       0.77      0.77      0.77      8031\n",
            "weighted avg       0.77      0.76      0.76      8031\n",
            "\n"
          ]
        }
      ],
      "source": [
        "y_pred = model.predict(X_test)\n",
        "from sklearn.metrics import classification_report\n",
        "\n",
        "# After prediction\n",
        "y_pred_classes = np.argmax(y_pred, axis=1)\n",
        "y_true_classes = np.argmax(y_test, axis=1)\n",
        "\n",
        "print(classification_report(y_true_classes, y_pred_classes, target_names=class_labels))\n",
        "\n"
      ]
    },
    {
      "cell_type": "code",
      "execution_count": null,
      "metadata": {
        "colab": {
          "base_uri": "https://localhost:8080/",
          "height": 564
        },
        "id": "3N0Kxhe5nB4y",
        "outputId": "3bb8c766-262b-4862-9972-8140af7b9967"
      },
      "outputs": [
        {
          "output_type": "display_data",
          "data": {
            "text/plain": [
              "<Figure size 1000x600 with 2 Axes>"
            ],
            "image/png": "[encoded data removed]"
          },
          "metadata": {}
        }
      ],
      "source": [
        "cm = confusion_matrix(y_true_classes, y_pred_classes)\n",
        "plt.figure(figsize=(10, 6))\n",
        "sns.heatmap(cm, annot=True, fmt=\"d\", xticklabels=class_labels, yticklabels=class_labels, cmap=\"Blues\")\n",
        "plt.title(\"Confusion Matrix\")\n",
        "plt.xlabel(\"Predicted\")\n",
        "plt.ylabel(\"Actual\")\n",
        "plt.show()"
      ]
    },
    {
      "cell_type": "code",
      "execution_count": null,
      "metadata": {
        "id": "Qqjs6dRsnwjV"
      },
      "outputs": [],
      "source": [
        "import numpy as np\n",
        "\n",
        "# Reshape for Conv1D (add channel dimension)\n",
        "X_train_cnn = X_train.reshape(X_train.shape[0], X_train.shape[1], 1)\n",
        "X_test_cnn = X_test.reshape(X_test.shape[0], X_test.shape[1], 1)\n"
      ]
    },
    {
      "cell_type": "code",
      "execution_count": null,
      "metadata": {
        "colab": {
          "base_uri": "https://localhost:8080/"
        },
        "id": "bR-X6s0qoebt",
        "outputId": "b008c71a-afae-4f5d-862f-c4f378418d5f"
      },
      "outputs": [
        {
          "output_type": "execute_result",
          "data": {
            "text/plain": [
              "((18739, 512, 1), (8031, 512, 1))"
            ]
          },
          "metadata": {},
          "execution_count": 18
        }
      ],
      "source": [
        "X_train_cnn.shape, X_test_cnn.shape"
      ]
    },
    {
      "cell_type": "code",
      "execution_count": null,
      "metadata": {
        "id": "98l64QhynxOr"
      },
      "outputs": [],
      "source": [
        "from tensorflow.keras.models import Sequential\n",
        "from tensorflow.keras.layers import Conv1D, MaxPooling1D, Flatten, Dense, Dropout, BatchNormalization, Activation\n",
        "from tensorflow.keras.optimizers import Adam\n",
        "\n",
        "def build_cnn_model(input_shape, num_classes):\n",
        "    model = Sequential()\n",
        "\n",
        "    # Block 1\n",
        "    model.add(Conv1D(256, kernel_size=5, padding='same', input_shape=input_shape))\n",
        "    model.add(BatchNormalization())\n",
        "    model.add(Activation('relu'))\n",
        "    model.add(Conv1D(256, kernel_size=5, padding='same'))\n",
        "    model.add(BatchNormalization())\n",
        "    model.add(Activation('relu'))\n",
        "    model.add(MaxPooling1D(pool_size=2))\n",
        "    model.add(Dropout(0.3))\n",
        "\n",
        "    # Block 2\n",
        "    model.add(Conv1D(128, kernel_size=3, padding='same'))\n",
        "    model.add(BatchNormalization())\n",
        "    model.add(Activation('relu'))\n",
        "    model.add(Conv1D(128, kernel_size=3, padding='same'))\n",
        "    model.add(BatchNormalization())\n",
        "    model.add(Activation('relu'))\n",
        "    model.add(MaxPooling1D(pool_size=2))\n",
        "    model.add(Dropout(0.3))\n",
        "\n",
        "    # Block 3\n",
        "    model.add(Conv1D(64, kernel_size=3, padding='same'))\n",
        "    model.add(BatchNormalization())\n",
        "    model.add(Activation('relu'))\n",
        "    model.add(MaxPooling1D(pool_size=2))\n",
        "    model.add(Dropout(0.4))\n",
        "\n",
        "    # Fully Connected\n",
        "    model.add(Flatten())\n",
        "    model.add(Dense(256, activation='relu'))\n",
        "    model.add(Dropout(0.3))\n",
        "    model.add(Dense(128, activation='relu'))\n",
        "    model.add(Dense(128, activation='relu'))\n",
        "    model.add(Dropout(0.3))\n",
        "    model.add(Dense(64, activation='relu'))\n",
        "    model.add(Dropout(0.2))\n",
        "    model.add(Dense(64, activation='relu'))\n",
        "    model.add(Dense(32, activation='relu'))\n",
        "\n",
        "    model.add(Dense(num_classes, activation='softmax'))\n",
        "\n",
        "\n",
        "    model.compile(optimizer=Adam(learning_rate=0.0005),\n",
        "                  loss='categorical_crossentropy',\n",
        "                  metrics=['accuracy'])\n",
        "\n",
        "    return model\n"
      ]
    },
    {
      "cell_type": "code",
      "execution_count": null,
      "metadata": {
        "colab": {
          "base_uri": "https://localhost:8080/"
        },
        "id": "MetYuEOpodJx",
        "outputId": "10bb7776-c76e-4f69-c16f-880c5c6b4680"
      },
      "outputs": [
        {
          "output_type": "stream",
          "name": "stderr",
          "text": [
            "/usr/local/lib/python3.11/dist-packages/keras/src/layers/convolutional/base_conv.py:107: UserWarning: Do not pass an `input_shape`/`input_dim` argument to a layer. When using Sequential models, prefer using an `Input(shape)` object as the first layer in the model instead.\n",
            "  super().__init__(activity_regularizer=activity_regularizer, **kwargs)\n"
          ]
        }
      ],
      "source": [
        "input_shape = (X_train_cnn.shape[1], 1)\n",
        "num_classes = y_train.shape[1]\n",
        "\n",
        "model = build_cnn_model(input_shape, num_classes)"
      ]
    },
    {
      "cell_type": "code",
      "execution_count": null,
      "metadata": {
        "id": "J-zGGJFVn5_h",
        "colab": {
          "base_uri": "https://localhost:8080/"
        },
        "outputId": "0405820d-2188-4b5d-9e6c-15c306c533e2"
      },
      "outputs": [
        {
          "output_type": "stream",
          "name": "stdout",
          "text": [
            "Epoch 1/100\n",
            "\u001b[1m293/293\u001b[0m \u001b[32m━━━━━━━━━━━━━━━━━━━━\u001b[0m\u001b[37m\u001b[0m \u001b[1m37s\u001b[0m 78ms/step - accuracy: 0.1987 - loss: 1.9063 - val_accuracy: 0.2239 - val_loss: 1.8042\n",
            "Epoch 2/100\n",
            "\u001b[1m293/293\u001b[0m \u001b[32m━━━━━━━━━━━━━━━━━━━━\u001b[0m\u001b[37m\u001b[0m \u001b[1m19s\u001b[0m 35ms/step - accuracy: 0.3988 - loss: 1.4936 - val_accuracy: 0.5297 - val_loss: 1.1840\n",
            "Epoch 3/100\n",
            "\u001b[1m293/293\u001b[0m \u001b[32m━━━━━━━━━━━━━━━━━━━━\u001b[0m\u001b[37m\u001b[0m \u001b[1m21s\u001b[0m 36ms/step - accuracy: 0.5042 - loss: 1.2637 - val_accuracy: 0.5555 - val_loss: 1.1103\n",
            "Epoch 4/100\n",
            "\u001b[1m293/293\u001b[0m \u001b[32m━━━━━━━━━━━━━━━━━━━━\u001b[0m\u001b[37m\u001b[0m \u001b[1m10s\u001b[0m 36ms/step - accuracy: 0.5406 - loss: 1.1674 - val_accuracy: 0.6002 - val_loss: 1.0324\n",
            "Epoch 5/100\n",
            "\u001b[1m293/293\u001b[0m \u001b[32m━━━━━━━━━━━━━━━━━━━━\u001b[0m\u001b[37m\u001b[0m \u001b[1m21s\u001b[0m 36ms/step - accuracy: 0.5693 - loss: 1.1120 - val_accuracy: 0.6298 - val_loss: 0.9699\n",
            "Epoch 6/100\n",
            "\u001b[1m293/293\u001b[0m \u001b[32m━━━━━━━━━━━━━━━━━━━━\u001b[0m\u001b[37m\u001b[0m \u001b[1m20s\u001b[0m 36ms/step - accuracy: 0.5888 - loss: 1.0651 - val_accuracy: 0.6431 - val_loss: 0.9424\n",
            "Epoch 7/100\n",
            "\u001b[1m293/293\u001b[0m \u001b[32m━━━━━━━━━━━━━━━━━━━━\u001b[0m\u001b[37m\u001b[0m \u001b[1m20s\u001b[0m 36ms/step - accuracy: 0.6088 - loss: 1.0192 - val_accuracy: 0.6364 - val_loss: 0.9332\n",
            "Epoch 8/100\n",
            "\u001b[1m293/293\u001b[0m \u001b[32m━━━━━━━━━━━━━━━━━━━━\u001b[0m\u001b[37m\u001b[0m \u001b[1m11s\u001b[0m 36ms/step - accuracy: 0.6180 - loss: 1.0014 - val_accuracy: 0.6537 - val_loss: 0.9248\n",
            "Epoch 9/100\n",
            "\u001b[1m293/293\u001b[0m \u001b[32m━━━━━━━━━━━━━━━━━━━━\u001b[0m\u001b[37m\u001b[0m \u001b[1m20s\u001b[0m 36ms/step - accuracy: 0.6183 - loss: 0.9884 - val_accuracy: 0.6556 - val_loss: 0.8894\n",
            "Epoch 10/100\n",
            "\u001b[1m293/293\u001b[0m \u001b[32m━━━━━━━━━━━━━━━━━━━━\u001b[0m\u001b[37m\u001b[0m \u001b[1m21s\u001b[0m 36ms/step - accuracy: 0.6374 - loss: 0.9488 - val_accuracy: 0.6674 - val_loss: 0.8731\n",
            "Epoch 11/100\n",
            "\u001b[1m293/293\u001b[0m \u001b[32m━━━━━━━━━━━━━━━━━━━━\u001b[0m\u001b[37m\u001b[0m \u001b[1m20s\u001b[0m 36ms/step - accuracy: 0.6440 - loss: 0.9365 - val_accuracy: 0.6736 - val_loss: 0.8557\n",
            "Epoch 12/100\n",
            "\u001b[1m293/293\u001b[0m \u001b[32m━━━━━━━━━━━━━━━━━━━━\u001b[0m\u001b[37m\u001b[0m \u001b[1m11s\u001b[0m 36ms/step - accuracy: 0.6510 - loss: 0.9176 - val_accuracy: 0.6755 - val_loss: 0.8588\n",
            "Epoch 13/100\n",
            "\u001b[1m293/293\u001b[0m \u001b[32m━━━━━━━━━━━━━━━━━━━━\u001b[0m\u001b[37m\u001b[0m \u001b[1m20s\u001b[0m 36ms/step - accuracy: 0.6621 - loss: 0.9036 - val_accuracy: 0.6748 - val_loss: 0.8468\n",
            "Epoch 14/100\n",
            "\u001b[1m293/293\u001b[0m \u001b[32m━━━━━━━━━━━━━━━━━━━━\u001b[0m\u001b[37m\u001b[0m \u001b[1m11s\u001b[0m 36ms/step - accuracy: 0.6693 - loss: 0.8865 - val_accuracy: 0.6907 - val_loss: 0.8208\n",
            "Epoch 15/100\n",
            "\u001b[1m293/293\u001b[0m \u001b[32m━━━━━━━━━━━━━━━━━━━━\u001b[0m\u001b[37m\u001b[0m \u001b[1m20s\u001b[0m 35ms/step - accuracy: 0.6774 - loss: 0.8583 - val_accuracy: 0.6948 - val_loss: 0.8232\n",
            "Epoch 16/100\n",
            "\u001b[1m293/293\u001b[0m \u001b[32m━━━━━━━━━━━━━━━━━━━━\u001b[0m\u001b[37m\u001b[0m \u001b[1m11s\u001b[0m 36ms/step - accuracy: 0.6734 - loss: 0.8643 - val_accuracy: 0.6998 - val_loss: 0.8020\n",
            "Epoch 17/100\n",
            "\u001b[1m293/293\u001b[0m \u001b[32m━━━━━━━━━━━━━━━━━━━━\u001b[0m\u001b[37m\u001b[0m \u001b[1m20s\u001b[0m 36ms/step - accuracy: 0.6838 - loss: 0.8355 - val_accuracy: 0.7015 - val_loss: 0.8076\n",
            "Epoch 18/100\n",
            "\u001b[1m293/293\u001b[0m \u001b[32m━━━━━━━━━━━━━━━━━━━━\u001b[0m\u001b[37m\u001b[0m \u001b[1m11s\u001b[0m 36ms/step - accuracy: 0.6868 - loss: 0.8236 - val_accuracy: 0.6984 - val_loss: 0.7873\n",
            "Epoch 19/100\n",
            "\u001b[1m293/293\u001b[0m \u001b[32m━━━━━━━━━━━━━━━━━━━━\u001b[0m\u001b[37m\u001b[0m \u001b[1m20s\u001b[0m 36ms/step - accuracy: 0.6888 - loss: 0.8262 - val_accuracy: 0.7073 - val_loss: 0.7923\n",
            "Epoch 20/100\n",
            "\u001b[1m293/293\u001b[0m \u001b[32m━━━━━━━━━━━━━━━━━━━━\u001b[0m\u001b[37m\u001b[0m \u001b[1m11s\u001b[0m 36ms/step - accuracy: 0.6884 - loss: 0.8161 - val_accuracy: 0.7088 - val_loss: 0.7837\n",
            "Epoch 21/100\n",
            "\u001b[1m293/293\u001b[0m \u001b[32m━━━━━━━━━━━━━━━━━━━━\u001b[0m\u001b[37m\u001b[0m \u001b[1m20s\u001b[0m 36ms/step - accuracy: 0.7005 - loss: 0.7951 - val_accuracy: 0.7134 - val_loss: 0.7797\n",
            "Epoch 22/100\n",
            "\u001b[1m293/293\u001b[0m \u001b[32m━━━━━━━━━━━━━━━━━━━━\u001b[0m\u001b[37m\u001b[0m \u001b[1m11s\u001b[0m 36ms/step - accuracy: 0.7014 - loss: 0.7921 - val_accuracy: 0.7093 - val_loss: 0.7773\n",
            "Epoch 23/100\n",
            "\u001b[1m293/293\u001b[0m \u001b[32m━━━━━━━━━━━━━━━━━━━━\u001b[0m\u001b[37m\u001b[0m \u001b[1m21s\u001b[0m 36ms/step - accuracy: 0.7043 - loss: 0.7862 - val_accuracy: 0.7117 - val_loss: 0.7541\n",
            "Epoch 24/100\n",
            "\u001b[1m293/293\u001b[0m \u001b[32m━━━━━━━━━━━━━━━━━━━━\u001b[0m\u001b[37m\u001b[0m \u001b[1m20s\u001b[0m 36ms/step - accuracy: 0.7046 - loss: 0.7751 - val_accuracy: 0.7225 - val_loss: 0.7493\n",
            "Epoch 25/100\n",
            "\u001b[1m293/293\u001b[0m \u001b[32m━━━━━━━━━━━━━━━━━━━━\u001b[0m\u001b[37m\u001b[0m \u001b[1m21s\u001b[0m 36ms/step - accuracy: 0.7222 - loss: 0.7398 - val_accuracy: 0.7198 - val_loss: 0.7431\n",
            "Epoch 26/100\n",
            "\u001b[1m293/293\u001b[0m \u001b[32m━━━━━━━━━━━━━━━━━━━━\u001b[0m\u001b[37m\u001b[0m \u001b[1m11s\u001b[0m 36ms/step - accuracy: 0.7169 - loss: 0.7464 - val_accuracy: 0.7120 - val_loss: 0.7565\n",
            "Epoch 27/100\n",
            "\u001b[1m293/293\u001b[0m \u001b[32m━━━━━━━━━━━━━━━━━━━━\u001b[0m\u001b[37m\u001b[0m \u001b[1m11s\u001b[0m 36ms/step - accuracy: 0.7246 - loss: 0.7327 - val_accuracy: 0.7055 - val_loss: 0.7627\n",
            "Epoch 28/100\n",
            "\u001b[1m293/293\u001b[0m \u001b[32m━━━━━━━━━━━━━━━━━━━━\u001b[0m\u001b[37m\u001b[0m \u001b[1m11s\u001b[0m 36ms/step - accuracy: 0.7268 - loss: 0.7270 - val_accuracy: 0.7231 - val_loss: 0.7392\n",
            "Epoch 29/100\n",
            "\u001b[1m293/293\u001b[0m \u001b[32m━━━━━━━━━━━━━━━━━━━━\u001b[0m\u001b[37m\u001b[0m \u001b[1m10s\u001b[0m 35ms/step - accuracy: 0.7267 - loss: 0.7171 - val_accuracy: 0.7254 - val_loss: 0.7274\n",
            "Epoch 30/100\n",
            "\u001b[1m293/293\u001b[0m \u001b[32m━━━━━━━━━━━━━━━━━━━━\u001b[0m\u001b[37m\u001b[0m \u001b[1m21s\u001b[0m 35ms/step - accuracy: 0.7373 - loss: 0.7014 - val_accuracy: 0.7349 - val_loss: 0.7151\n",
            "Epoch 31/100\n",
            "\u001b[1m293/293\u001b[0m \u001b[32m━━━━━━━━━━━━━━━━━━━━\u001b[0m\u001b[37m\u001b[0m \u001b[1m21s\u001b[0m 36ms/step - accuracy: 0.7365 - loss: 0.6977 - val_accuracy: 0.7319 - val_loss: 0.7166\n",
            "Epoch 32/100\n",
            "\u001b[1m293/293\u001b[0m \u001b[32m━━━━━━━━━━━━━━━━━━━━\u001b[0m\u001b[37m\u001b[0m \u001b[1m11s\u001b[0m 36ms/step - accuracy: 0.7409 - loss: 0.6947 - val_accuracy: 0.7332 - val_loss: 0.7143\n",
            "Epoch 33/100\n",
            "\u001b[1m293/293\u001b[0m \u001b[32m━━━━━━━━━━━━━━━━━━━━\u001b[0m\u001b[37m\u001b[0m \u001b[1m20s\u001b[0m 36ms/step - accuracy: 0.7376 - loss: 0.6985 - val_accuracy: 0.7247 - val_loss: 0.7143\n",
            "Epoch 34/100\n",
            "\u001b[1m293/293\u001b[0m \u001b[32m━━━━━━━━━━━━━━━━━━━━\u001b[0m\u001b[37m\u001b[0m \u001b[1m20s\u001b[0m 36ms/step - accuracy: 0.7369 - loss: 0.7006 - val_accuracy: 0.7315 - val_loss: 0.7242\n",
            "Epoch 35/100\n",
            "\u001b[1m293/293\u001b[0m \u001b[32m━━━━━━━━━━━━━━━━━━━━\u001b[0m\u001b[37m\u001b[0m \u001b[1m11s\u001b[0m 36ms/step - accuracy: 0.7440 - loss: 0.6848 - val_accuracy: 0.7360 - val_loss: 0.7161\n",
            "Epoch 36/100\n",
            "\u001b[1m293/293\u001b[0m \u001b[32m━━━━━━━━━━━━━━━━━━━━\u001b[0m\u001b[37m\u001b[0m \u001b[1m11s\u001b[0m 36ms/step - accuracy: 0.7509 - loss: 0.6729 - val_accuracy: 0.7328 - val_loss: 0.7077\n",
            "Epoch 37/100\n",
            "\u001b[1m293/293\u001b[0m \u001b[32m━━━━━━━━━━━━━━━━━━━━\u001b[0m\u001b[37m\u001b[0m \u001b[1m20s\u001b[0m 35ms/step - accuracy: 0.7572 - loss: 0.6570 - val_accuracy: 0.7398 - val_loss: 0.6925\n",
            "Epoch 38/100\n",
            "\u001b[1m293/293\u001b[0m \u001b[32m━━━━━━━━━━━━━━━━━━━━\u001b[0m\u001b[37m\u001b[0m \u001b[1m21s\u001b[0m 36ms/step - accuracy: 0.7551 - loss: 0.6537 - val_accuracy: 0.7358 - val_loss: 0.7049\n",
            "Epoch 39/100\n",
            "\u001b[1m293/293\u001b[0m \u001b[32m━━━━━━━━━━━━━━━━━━━━\u001b[0m\u001b[37m\u001b[0m \u001b[1m21s\u001b[0m 36ms/step - accuracy: 0.7546 - loss: 0.6610 - val_accuracy: 0.7295 - val_loss: 0.7133\n",
            "Epoch 40/100\n",
            "\u001b[1m293/293\u001b[0m \u001b[32m━━━━━━━━━━━━━━━━━━━━\u001b[0m\u001b[37m\u001b[0m \u001b[1m21s\u001b[0m 36ms/step - accuracy: 0.7576 - loss: 0.6456 - val_accuracy: 0.7442 - val_loss: 0.7016\n",
            "Epoch 41/100\n",
            "\u001b[1m293/293\u001b[0m \u001b[32m━━━━━━━━━━━━━━━━━━━━\u001b[0m\u001b[37m\u001b[0m \u001b[1m11s\u001b[0m 36ms/step - accuracy: 0.7621 - loss: 0.6373 - val_accuracy: 0.7459 - val_loss: 0.6860\n",
            "Epoch 42/100\n",
            "\u001b[1m293/293\u001b[0m \u001b[32m━━━━━━━━━━━━━━━━━━━━\u001b[0m\u001b[37m\u001b[0m \u001b[1m20s\u001b[0m 36ms/step - accuracy: 0.7684 - loss: 0.6166 - val_accuracy: 0.7426 - val_loss: 0.6923\n",
            "Epoch 43/100\n",
            "\u001b[1m293/293\u001b[0m \u001b[32m━━━━━━━━━━━━━━━━━━━━\u001b[0m\u001b[37m\u001b[0m \u001b[1m20s\u001b[0m 36ms/step - accuracy: 0.7673 - loss: 0.6293 - val_accuracy: 0.7449 - val_loss: 0.6857\n",
            "Epoch 44/100\n",
            "\u001b[1m293/293\u001b[0m \u001b[32m━━━━━━━━━━━━━━━━━━━━\u001b[0m\u001b[37m\u001b[0m \u001b[1m21s\u001b[0m 36ms/step - accuracy: 0.7672 - loss: 0.6349 - val_accuracy: 0.7390 - val_loss: 0.6919\n",
            "Epoch 45/100\n",
            "\u001b[1m293/293\u001b[0m \u001b[32m━━━━━━━━━━━━━━━━━━━━\u001b[0m\u001b[37m\u001b[0m \u001b[1m20s\u001b[0m 36ms/step - accuracy: 0.7835 - loss: 0.5932 - val_accuracy: 0.7485 - val_loss: 0.6899\n",
            "Epoch 46/100\n",
            "\u001b[1m293/293\u001b[0m \u001b[32m━━━━━━━━━━━━━━━━━━━━\u001b[0m\u001b[37m\u001b[0m \u001b[1m11s\u001b[0m 36ms/step - accuracy: 0.7785 - loss: 0.5985 - val_accuracy: 0.7396 - val_loss: 0.6858\n",
            "Epoch 47/100\n",
            "\u001b[1m293/293\u001b[0m \u001b[32m━━━━━━━━━━━━━━━━━━━━\u001b[0m\u001b[37m\u001b[0m \u001b[1m20s\u001b[0m 35ms/step - accuracy: 0.7776 - loss: 0.6090 - val_accuracy: 0.7461 - val_loss: 0.6851\n",
            "Epoch 48/100\n",
            "\u001b[1m293/293\u001b[0m \u001b[32m━━━━━━━━━━━━━━━━━━━━\u001b[0m\u001b[37m\u001b[0m \u001b[1m21s\u001b[0m 36ms/step - accuracy: 0.7773 - loss: 0.5986 - val_accuracy: 0.7518 - val_loss: 0.6763\n",
            "Epoch 49/100\n",
            "\u001b[1m293/293\u001b[0m \u001b[32m━━━━━━━━━━━━━━━━━━━━\u001b[0m\u001b[37m\u001b[0m \u001b[1m20s\u001b[0m 35ms/step - accuracy: 0.7841 - loss: 0.5858 - val_accuracy: 0.7537 - val_loss: 0.6635\n",
            "Epoch 50/100\n",
            "\u001b[1m293/293\u001b[0m \u001b[32m━━━━━━━━━━━━━━━━━━━━\u001b[0m\u001b[37m\u001b[0m \u001b[1m20s\u001b[0m 35ms/step - accuracy: 0.7902 - loss: 0.5750 - val_accuracy: 0.7518 - val_loss: 0.6779\n",
            "Epoch 51/100\n",
            "\u001b[1m293/293\u001b[0m \u001b[32m━━━━━━━━━━━━━━━━━━━━\u001b[0m\u001b[37m\u001b[0m \u001b[1m10s\u001b[0m 35ms/step - accuracy: 0.7890 - loss: 0.5769 - val_accuracy: 0.7543 - val_loss: 0.6659\n",
            "Epoch 52/100\n",
            "\u001b[1m293/293\u001b[0m \u001b[32m━━━━━━━━━━━━━━━━━━━━\u001b[0m\u001b[37m\u001b[0m \u001b[1m10s\u001b[0m 35ms/step - accuracy: 0.7931 - loss: 0.5575 - val_accuracy: 0.7527 - val_loss: 0.6719\n",
            "Epoch 53/100\n",
            "\u001b[1m293/293\u001b[0m \u001b[32m━━━━━━━━━━━━━━━━━━━━\u001b[0m\u001b[37m\u001b[0m \u001b[1m10s\u001b[0m 35ms/step - accuracy: 0.7867 - loss: 0.5783 - val_accuracy: 0.7556 - val_loss: 0.6660\n",
            "Epoch 54/100\n",
            "\u001b[1m293/293\u001b[0m \u001b[32m━━━━━━━━━━━━━━━━━━━━\u001b[0m\u001b[37m\u001b[0m \u001b[1m11s\u001b[0m 36ms/step - accuracy: 0.7905 - loss: 0.5663 - val_accuracy: 0.7536 - val_loss: 0.6668\n",
            "Epoch 55/100\n",
            "\u001b[1m293/293\u001b[0m \u001b[32m━━━━━━━━━━━━━━━━━━━━\u001b[0m\u001b[37m\u001b[0m \u001b[1m11s\u001b[0m 36ms/step - accuracy: 0.7986 - loss: 0.5534 - val_accuracy: 0.7567 - val_loss: 0.6609\n",
            "Epoch 56/100\n",
            "\u001b[1m293/293\u001b[0m \u001b[32m━━━━━━━━━━━━━━━━━━━━\u001b[0m\u001b[37m\u001b[0m \u001b[1m11s\u001b[0m 36ms/step - accuracy: 0.7915 - loss: 0.5578 - val_accuracy: 0.7574 - val_loss: 0.6672\n",
            "Epoch 57/100\n",
            "\u001b[1m293/293\u001b[0m \u001b[32m━━━━━━━━━━━━━━━━━━━━\u001b[0m\u001b[37m\u001b[0m \u001b[1m20s\u001b[0m 35ms/step - accuracy: 0.8020 - loss: 0.5421 - val_accuracy: 0.7582 - val_loss: 0.6583\n",
            "Epoch 58/100\n",
            "\u001b[1m293/293\u001b[0m \u001b[32m━━━━━━━━━━━━━━━━━━━━\u001b[0m\u001b[37m\u001b[0m \u001b[1m21s\u001b[0m 36ms/step - accuracy: 0.8031 - loss: 0.5399 - val_accuracy: 0.7593 - val_loss: 0.6591\n",
            "Epoch 59/100\n",
            "\u001b[1m293/293\u001b[0m \u001b[32m━━━━━━━━━━━━━━━━━━━━\u001b[0m\u001b[37m\u001b[0m \u001b[1m11s\u001b[0m 37ms/step - accuracy: 0.8008 - loss: 0.5246 - val_accuracy: 0.7624 - val_loss: 0.6612\n",
            "Epoch 60/100\n",
            "\u001b[1m293/293\u001b[0m \u001b[32m━━━━━━━━━━━━━━━━━━━━\u001b[0m\u001b[37m\u001b[0m \u001b[1m20s\u001b[0m 36ms/step - accuracy: 0.8059 - loss: 0.5277 - val_accuracy: 0.7588 - val_loss: 0.6531\n",
            "Epoch 61/100\n",
            "\u001b[1m293/293\u001b[0m \u001b[32m━━━━━━━━━━━━━━━━━━━━\u001b[0m\u001b[37m\u001b[0m \u001b[1m11s\u001b[0m 36ms/step - accuracy: 0.8106 - loss: 0.5188 - val_accuracy: 0.7602 - val_loss: 0.6586\n",
            "Epoch 62/100\n",
            "\u001b[1m293/293\u001b[0m \u001b[32m━━━━━━━━━━━━━━━━━━━━\u001b[0m\u001b[37m\u001b[0m \u001b[1m11s\u001b[0m 36ms/step - accuracy: 0.8072 - loss: 0.5179 - val_accuracy: 0.7579 - val_loss: 0.6627\n",
            "Epoch 63/100\n",
            "\u001b[1m293/293\u001b[0m \u001b[32m━━━━━━━━━━━━━━━━━━━━\u001b[0m\u001b[37m\u001b[0m \u001b[1m20s\u001b[0m 36ms/step - accuracy: 0.8115 - loss: 0.5102 - val_accuracy: 0.7624 - val_loss: 0.6517\n",
            "Epoch 64/100\n",
            "\u001b[1m293/293\u001b[0m \u001b[32m━━━━━━━━━━━━━━━━━━━━\u001b[0m\u001b[37m\u001b[0m \u001b[1m11s\u001b[0m 36ms/step - accuracy: 0.8127 - loss: 0.5107 - val_accuracy: 0.7660 - val_loss: 0.6462\n",
            "Epoch 65/100\n",
            "\u001b[1m293/293\u001b[0m \u001b[32m━━━━━━━━━━━━━━━━━━━━\u001b[0m\u001b[37m\u001b[0m \u001b[1m11s\u001b[0m 36ms/step - accuracy: 0.8083 - loss: 0.5153 - val_accuracy: 0.7596 - val_loss: 0.6553\n",
            "Epoch 66/100\n",
            "\u001b[1m293/293\u001b[0m \u001b[32m━━━━━━━━━━━━━━━━━━━━\u001b[0m\u001b[37m\u001b[0m \u001b[1m11s\u001b[0m 36ms/step - accuracy: 0.8131 - loss: 0.5100 - val_accuracy: 0.7650 - val_loss: 0.6510\n",
            "Epoch 67/100\n",
            "\u001b[1m293/293\u001b[0m \u001b[32m━━━━━━━━━━━━━━━━━━━━\u001b[0m\u001b[37m\u001b[0m \u001b[1m20s\u001b[0m 36ms/step - accuracy: 0.8154 - loss: 0.5069 - val_accuracy: 0.7640 - val_loss: 0.6580\n",
            "Epoch 68/100\n",
            "\u001b[1m293/293\u001b[0m \u001b[32m━━━━━━━━━━━━━━━━━━━━\u001b[0m\u001b[37m\u001b[0m \u001b[1m11s\u001b[0m 36ms/step - accuracy: 0.8152 - loss: 0.5037 - val_accuracy: 0.7685 - val_loss: 0.6479\n",
            "Epoch 69/100\n",
            "\u001b[1m293/293\u001b[0m \u001b[32m━━━━━━━━━━━━━━━━━━━━\u001b[0m\u001b[37m\u001b[0m \u001b[1m11s\u001b[0m 36ms/step - accuracy: 0.8188 - loss: 0.4997 - val_accuracy: 0.7705 - val_loss: 0.6429\n",
            "Epoch 70/100\n",
            "\u001b[1m293/293\u001b[0m \u001b[32m━━━━━━━━━━━━━━━━━━━━\u001b[0m\u001b[37m\u001b[0m \u001b[1m11s\u001b[0m 36ms/step - accuracy: 0.8230 - loss: 0.4795 - val_accuracy: 0.7701 - val_loss: 0.6582\n",
            "Epoch 71/100\n",
            "\u001b[1m293/293\u001b[0m \u001b[32m━━━━━━━━━━━━━━━━━━━━\u001b[0m\u001b[37m\u001b[0m \u001b[1m20s\u001b[0m 36ms/step - accuracy: 0.8245 - loss: 0.4853 - val_accuracy: 0.7684 - val_loss: 0.6411\n",
            "Epoch 72/100\n",
            "\u001b[1m293/293\u001b[0m \u001b[32m━━━━━━━━━━━━━━━━━━━━\u001b[0m\u001b[37m\u001b[0m \u001b[1m10s\u001b[0m 36ms/step - accuracy: 0.8222 - loss: 0.4820 - val_accuracy: 0.7691 - val_loss: 0.6447\n",
            "Epoch 73/100\n",
            "\u001b[1m293/293\u001b[0m \u001b[32m━━━━━━━━━━━━━━━━━━━━\u001b[0m\u001b[37m\u001b[0m \u001b[1m11s\u001b[0m 36ms/step - accuracy: 0.8287 - loss: 0.4745 - val_accuracy: 0.7706 - val_loss: 0.6402\n",
            "Epoch 74/100\n",
            "\u001b[1m293/293\u001b[0m \u001b[32m━━━━━━━━━━━━━━━━━━━━\u001b[0m\u001b[37m\u001b[0m \u001b[1m11s\u001b[0m 36ms/step - accuracy: 0.8239 - loss: 0.4748 - val_accuracy: 0.7690 - val_loss: 0.6503\n",
            "Epoch 75/100\n",
            "\u001b[1m293/293\u001b[0m \u001b[32m━━━━━━━━━━━━━━━━━━━━\u001b[0m\u001b[37m\u001b[0m \u001b[1m20s\u001b[0m 36ms/step - accuracy: 0.8238 - loss: 0.4774 - val_accuracy: 0.7728 - val_loss: 0.6356\n",
            "Epoch 76/100\n",
            "\u001b[1m293/293\u001b[0m \u001b[32m━━━━━━━━━━━━━━━━━━━━\u001b[0m\u001b[37m\u001b[0m \u001b[1m11s\u001b[0m 36ms/step - accuracy: 0.8268 - loss: 0.4719 - val_accuracy: 0.7745 - val_loss: 0.6410\n",
            "Epoch 77/100\n",
            "\u001b[1m293/293\u001b[0m \u001b[32m━━━━━━━━━━━━━━━━━━━━\u001b[0m\u001b[37m\u001b[0m \u001b[1m11s\u001b[0m 36ms/step - accuracy: 0.8265 - loss: 0.4544 - val_accuracy: 0.7726 - val_loss: 0.6507\n",
            "Epoch 78/100\n",
            "\u001b[1m293/293\u001b[0m \u001b[32m━━━━━━━━━━━━━━━━━━━━\u001b[0m\u001b[37m\u001b[0m \u001b[1m20s\u001b[0m 36ms/step - accuracy: 0.8307 - loss: 0.4571 - val_accuracy: 0.7740 - val_loss: 0.6424\n",
            "Epoch 79/100\n",
            "\u001b[1m293/293\u001b[0m \u001b[32m━━━━━━━━━━━━━━━━━━━━\u001b[0m\u001b[37m\u001b[0m \u001b[1m11s\u001b[0m 36ms/step - accuracy: 0.8292 - loss: 0.4652 - val_accuracy: 0.7705 - val_loss: 0.6383\n",
            "Epoch 80/100\n",
            "\u001b[1m293/293\u001b[0m \u001b[32m━━━━━━━━━━━━━━━━━━━━\u001b[0m\u001b[37m\u001b[0m \u001b[1m11s\u001b[0m 37ms/step - accuracy: 0.8320 - loss: 0.4581 - val_accuracy: 0.7746 - val_loss: 0.6387\n",
            "Epoch 81/100\n",
            "\u001b[1m293/293\u001b[0m \u001b[32m━━━━━━━━━━━━━━━━━━━━\u001b[0m\u001b[37m\u001b[0m \u001b[1m11s\u001b[0m 37ms/step - accuracy: 0.8383 - loss: 0.4406 - val_accuracy: 0.7733 - val_loss: 0.6450\n",
            "Epoch 82/100\n",
            "\u001b[1m293/293\u001b[0m \u001b[32m━━━━━━━━━━━━━━━━━━━━\u001b[0m\u001b[37m\u001b[0m \u001b[1m20s\u001b[0m 36ms/step - accuracy: 0.8392 - loss: 0.4297 - val_accuracy: 0.7738 - val_loss: 0.6493\n",
            "Epoch 83/100\n",
            "\u001b[1m293/293\u001b[0m \u001b[32m━━━━━━━━━━━━━━━━━━━━\u001b[0m\u001b[37m\u001b[0m \u001b[1m21s\u001b[0m 37ms/step - accuracy: 0.8429 - loss: 0.4345 - val_accuracy: 0.7694 - val_loss: 0.6516\n",
            "Epoch 84/100\n",
            "\u001b[1m293/293\u001b[0m \u001b[32m━━━━━━━━━━━━━━━━━━━━\u001b[0m\u001b[37m\u001b[0m \u001b[1m20s\u001b[0m 36ms/step - accuracy: 0.8366 - loss: 0.4457 - val_accuracy: 0.7762 - val_loss: 0.6525\n",
            "Epoch 85/100\n",
            "\u001b[1m293/293\u001b[0m \u001b[32m━━━━━━━━━━━━━━━━━━━━\u001b[0m\u001b[37m\u001b[0m \u001b[1m20s\u001b[0m 36ms/step - accuracy: 0.8414 - loss: 0.4240 - val_accuracy: 0.7769 - val_loss: 0.6380\n",
            "Epoch 86/100\n",
            "\u001b[1m293/293\u001b[0m \u001b[32m━━━━━━━━━━━━━━━━━━━━\u001b[0m\u001b[37m\u001b[0m \u001b[1m11s\u001b[0m 36ms/step - accuracy: 0.8391 - loss: 0.4295 - val_accuracy: 0.7770 - val_loss: 0.6319\n",
            "Epoch 87/100\n",
            "\u001b[1m293/293\u001b[0m \u001b[32m━━━━━━━━━━━━━━━━━━━━\u001b[0m\u001b[37m\u001b[0m \u001b[1m11s\u001b[0m 36ms/step - accuracy: 0.8439 - loss: 0.4273 - val_accuracy: 0.7721 - val_loss: 0.6448\n",
            "Epoch 88/100\n",
            "\u001b[1m293/293\u001b[0m \u001b[32m━━━━━━━━━━━━━━━━━━━━\u001b[0m\u001b[37m\u001b[0m \u001b[1m20s\u001b[0m 36ms/step - accuracy: 0.8444 - loss: 0.4229 - val_accuracy: 0.7756 - val_loss: 0.6372\n",
            "Epoch 89/100\n",
            "\u001b[1m293/293\u001b[0m \u001b[32m━━━━━━━━━━━━━━━━━━━━\u001b[0m\u001b[37m\u001b[0m \u001b[1m10s\u001b[0m 36ms/step - accuracy: 0.8503 - loss: 0.4194 - val_accuracy: 0.7759 - val_loss: 0.6492\n",
            "Epoch 90/100\n",
            "\u001b[1m293/293\u001b[0m \u001b[32m━━━━━━━━━━━━━━━━━━━━\u001b[0m\u001b[37m\u001b[0m \u001b[1m21s\u001b[0m 36ms/step - accuracy: 0.8514 - loss: 0.4119 - val_accuracy: 0.7747 - val_loss: 0.6420\n",
            "Epoch 91/100\n",
            "\u001b[1m293/293\u001b[0m \u001b[32m━━━━━━━━━━━━━━━━━━━━\u001b[0m\u001b[37m\u001b[0m \u001b[1m11s\u001b[0m 36ms/step - accuracy: 0.8423 - loss: 0.4176 - val_accuracy: 0.7776 - val_loss: 0.6534\n",
            "Epoch 92/100\n",
            "\u001b[1m293/293\u001b[0m \u001b[32m━━━━━━━━━━━━━━━━━━━━\u001b[0m\u001b[37m\u001b[0m \u001b[1m11s\u001b[0m 37ms/step - accuracy: 0.8423 - loss: 0.4272 - val_accuracy: 0.7759 - val_loss: 0.6475\n",
            "Epoch 93/100\n",
            "\u001b[1m293/293\u001b[0m \u001b[32m━━━━━━━━━━━━━━━━━━━━\u001b[0m\u001b[37m\u001b[0m \u001b[1m20s\u001b[0m 36ms/step - accuracy: 0.8497 - loss: 0.4210 - val_accuracy: 0.7750 - val_loss: 0.6382\n",
            "Epoch 94/100\n",
            "\u001b[1m293/293\u001b[0m \u001b[32m━━━━━━━━━━━━━━━━━━━━\u001b[0m\u001b[37m\u001b[0m \u001b[1m10s\u001b[0m 36ms/step - accuracy: 0.8461 - loss: 0.4138 - val_accuracy: 0.7775 - val_loss: 0.6345\n",
            "Epoch 95/100\n",
            "\u001b[1m293/293\u001b[0m \u001b[32m━━━━━━━━━━━━━━━━━━━━\u001b[0m\u001b[37m\u001b[0m \u001b[1m21s\u001b[0m 36ms/step - accuracy: 0.8435 - loss: 0.4154 - val_accuracy: 0.7770 - val_loss: 0.6481\n",
            "Epoch 96/100\n",
            "\u001b[1m293/293\u001b[0m \u001b[32m━━━━━━━━━━━━━━━━━━━━\u001b[0m\u001b[37m\u001b[0m \u001b[1m20s\u001b[0m 36ms/step - accuracy: 0.8527 - loss: 0.4026 - val_accuracy: 0.7821 - val_loss: 0.6293\n",
            "Epoch 97/100\n",
            "\u001b[1m293/293\u001b[0m \u001b[32m━━━━━━━━━━━━━━━━━━━━\u001b[0m\u001b[37m\u001b[0m \u001b[1m11s\u001b[0m 36ms/step - accuracy: 0.8461 - loss: 0.4150 - val_accuracy: 0.7782 - val_loss: 0.6421\n",
            "Epoch 98/100\n",
            "\u001b[1m293/293\u001b[0m \u001b[32m━━━━━━━━━━━━━━━━━━━━\u001b[0m\u001b[37m\u001b[0m \u001b[1m20s\u001b[0m 36ms/step - accuracy: 0.8510 - loss: 0.4037 - val_accuracy: 0.7801 - val_loss: 0.6443\n",
            "Epoch 99/100\n",
            "\u001b[1m293/293\u001b[0m \u001b[32m━━━━━━━━━━━━━━━━━━━━\u001b[0m\u001b[37m\u001b[0m \u001b[1m11s\u001b[0m 36ms/step - accuracy: 0.8533 - loss: 0.3996 - val_accuracy: 0.7837 - val_loss: 0.6321\n",
            "Epoch 100/100\n",
            "\u001b[1m293/293\u001b[0m \u001b[32m━━━━━━━━━━━━━━━━━━━━\u001b[0m\u001b[37m\u001b[0m \u001b[1m20s\u001b[0m 36ms/step - accuracy: 0.8550 - loss: 0.4000 - val_accuracy: 0.7808 - val_loss: 0.6474\n"
          ]
        }
      ],
      "source": [
        "history = model.fit(\n",
        "    X_train_cnn, y_train,\n",
        "    validation_data=(X_test_cnn, y_test),\n",
        "    epochs=100,\n",
        "    batch_size=64\n",
        ")"
      ]
    },
    {
      "cell_type": "code",
      "execution_count": null,
      "metadata": {
        "id": "vUF2YuIxZXau",
        "colab": {
          "base_uri": "https://localhost:8080/"
        },
        "outputId": "f802d371-bd8d-4964-ee8f-33c8757e13da"
      },
      "outputs": [
        {
          "output_type": "stream",
          "name": "stdout",
          "text": [
            "Epoch 1/10\n",
            "\u001b[1m293/293\u001b[0m \u001b[32m━━━━━━━━━━━━━━━━━━━━\u001b[0m\u001b[37m\u001b[0m \u001b[1m11s\u001b[0m 36ms/step - accuracy: 0.8552 - loss: 0.3946 - val_accuracy: 0.7822 - val_loss: 0.6434\n",
            "Epoch 2/10\n",
            "\u001b[1m293/293\u001b[0m \u001b[32m━━━━━━━━━━━━━━━━━━━━\u001b[0m\u001b[37m\u001b[0m \u001b[1m11s\u001b[0m 36ms/step - accuracy: 0.8569 - loss: 0.3932 - val_accuracy: 0.7785 - val_loss: 0.6394\n",
            "Epoch 3/10\n",
            "\u001b[1m293/293\u001b[0m \u001b[32m━━━━━━━━━━━━━━━━━━━━\u001b[0m\u001b[37m\u001b[0m \u001b[1m11s\u001b[0m 37ms/step - accuracy: 0.8583 - loss: 0.3942 - val_accuracy: 0.7832 - val_loss: 0.6272\n",
            "Epoch 4/10\n",
            "\u001b[1m293/293\u001b[0m \u001b[32m━━━━━━━━━━━━━━━━━━━━\u001b[0m\u001b[37m\u001b[0m \u001b[1m20s\u001b[0m 36ms/step - accuracy: 0.8614 - loss: 0.3845 - val_accuracy: 0.7810 - val_loss: 0.6285\n",
            "Epoch 5/10\n",
            "\u001b[1m293/293\u001b[0m \u001b[32m━━━━━━━━━━━━━━━━━━━━\u001b[0m\u001b[37m\u001b[0m \u001b[1m11s\u001b[0m 36ms/step - accuracy: 0.8537 - loss: 0.3823 - val_accuracy: 0.7832 - val_loss: 0.6242\n",
            "Epoch 6/10\n",
            "\u001b[1m293/293\u001b[0m \u001b[32m━━━━━━━━━━━━━━━━━━━━\u001b[0m\u001b[37m\u001b[0m \u001b[1m11s\u001b[0m 36ms/step - accuracy: 0.8609 - loss: 0.3787 - val_accuracy: 0.7805 - val_loss: 0.6288\n",
            "Epoch 7/10\n",
            "\u001b[1m293/293\u001b[0m \u001b[32m━━━━━━━━━━━━━━━━━━━━\u001b[0m\u001b[37m\u001b[0m \u001b[1m11s\u001b[0m 36ms/step - accuracy: 0.8585 - loss: 0.3800 - val_accuracy: 0.7867 - val_loss: 0.6360\n",
            "Epoch 8/10\n",
            "\u001b[1m293/293\u001b[0m \u001b[32m━━━━━━━━━━━━━━━━━━━━\u001b[0m\u001b[37m\u001b[0m \u001b[1m11s\u001b[0m 36ms/step - accuracy: 0.8627 - loss: 0.3793 - val_accuracy: 0.7823 - val_loss: 0.6415\n",
            "Epoch 9/10\n",
            "\u001b[1m293/293\u001b[0m \u001b[32m━━━━━━━━━━━━━━━━━━━━\u001b[0m\u001b[37m\u001b[0m \u001b[1m11s\u001b[0m 36ms/step - accuracy: 0.8692 - loss: 0.3681 - val_accuracy: 0.7808 - val_loss: 0.6380\n",
            "Epoch 10/10\n",
            "\u001b[1m293/293\u001b[0m \u001b[32m━━━━━━━━━━━━━━━━━━━━\u001b[0m\u001b[37m\u001b[0m \u001b[1m10s\u001b[0m 36ms/step - accuracy: 0.8656 - loss: 0.3669 - val_accuracy: 0.7843 - val_loss: 0.6410\n"
          ]
        }
      ],
      "source": [
        "history2 = model.fit(\n",
        "    X_train_cnn, y_train,\n",
        "    validation_data=(X_test_cnn, y_test),\n",
        "    epochs=10,\n",
        "    batch_size=64\n",
        ")"
      ]
    },
    {
      "cell_type": "code",
      "execution_count": null,
      "metadata": {
        "id": "uB-cAVRiZtba",
        "colab": {
          "base_uri": "https://localhost:8080/",
          "height": 484
        },
        "outputId": "8e524f6b-f97f-4a14-ac53-aa9c1d680c3b"
      },
      "outputs": [
        {
          "output_type": "display_data",
          "data": {
            "text/plain": [
              "<Figure size 1200x600 with 2 Axes>"
            ],
            "image/png": "[encoded data removed]"
          },
          "metadata": {}
        }
      ],
      "source": [
        "plt.figure(figsize=(12, 6))\n",
        "plt.subplot(1, 2, 1)\n",
        "plt.plot(history.history['loss']+history2.history['loss'], label='Training Loss')\n",
        "plt.plot(history.history['val_loss']+history2.history['val_loss'], label='Validation Loss')\n",
        "plt.title('Loss during training')\n",
        "plt.xlabel('Epochs')\n",
        "plt.ylabel('Loss')\n",
        "plt.legend()\n",
        "\n",
        "# Visualizing the training and validation accuracy\n",
        "plt.subplot(1, 2, 2)\n",
        "plt.plot(history.history['accuracy']+history2.history['accuracy'], label='Training Accuracy')\n",
        "plt.plot(history.history['val_accuracy']+history2.history['val_accuracy'], label='Validation Accuracy')\n",
        "plt.title('Accuracy during training')\n",
        "plt.xlabel('Epochs')\n",
        "plt.ylabel('Accuracy')\n",
        "plt.legend()\n",
        "\n",
        "plt.tight_layout()\n",
        "plt.show()"
      ]
    },
    {
      "cell_type": "code",
      "execution_count": null,
      "metadata": {
        "id": "AHUMX2Sfn7Pa",
        "colab": {
          "base_uri": "https://localhost:8080/"
        },
        "outputId": "60f13346-5ac2-442a-bc97-0db67e14b882"
      },
      "outputs": [
        {
          "output_type": "stream",
          "name": "stdout",
          "text": [
            "\u001b[1m251/251\u001b[0m \u001b[32m━━━━━━━━━━━━━━━━━━━━\u001b[0m\u001b[37m\u001b[0m \u001b[1m2s\u001b[0m 6ms/step - accuracy: 0.7835 - loss: 0.6399\n",
            "Test Accuracy: 0.78\n",
            "\u001b[1m251/251\u001b[0m \u001b[32m━━━━━━━━━━━━━━━━━━━━\u001b[0m\u001b[37m\u001b[0m \u001b[1m3s\u001b[0m 7ms/step\n"
          ]
        }
      ],
      "source": [
        "# Evaluate on test data\n",
        "test_loss, test_accuracy = model.evaluate(X_test_cnn, y_test)\n",
        "print(f\"Test Accuracy: {test_accuracy:.2f}\")\n",
        "\n",
        "# Predict\n",
        "y_pred = model.predict(X_test_cnn)\n"
      ]
    },
    {
      "cell_type": "code",
      "execution_count": null,
      "metadata": {
        "id": "3q9nWPgkn--k",
        "colab": {
          "base_uri": "https://localhost:8080/",
          "height": 770
        },
        "outputId": "d28a3047-79ac-4fb2-c6a2-1616b9f3d097"
      },
      "outputs": [
        {
          "output_type": "stream",
          "name": "stdout",
          "text": [
            "              precision    recall  f1-score   support\n",
            "\n",
            "       Angry       0.88      0.83      0.85      1300\n",
            "   Disgusted       0.68      0.71      0.69      1118\n",
            "     Fearful       0.77      0.74      0.75      1228\n",
            "       Happy       0.74      0.78      0.76      1300\n",
            "     Neutral       0.76      0.77      0.77      1076\n",
            "         Sad       0.79      0.76      0.77      1300\n",
            "    Suprised       0.93      0.97      0.95       709\n",
            "\n",
            "    accuracy                           0.78      8031\n",
            "   macro avg       0.79      0.79      0.79      8031\n",
            "weighted avg       0.79      0.78      0.78      8031\n",
            "\n"
          ]
        },
        {
          "output_type": "display_data",
          "data": {
            "text/plain": [
              "<Figure size 640x480 with 2 Axes>"
            ],
            "image/png": "[encoded data removed]"
          },
          "metadata": {}
        }
      ],
      "source": [
        "from sklearn.metrics import classification_report, confusion_matrix\n",
        "import seaborn as sns\n",
        "import matplotlib.pyplot as plt\n",
        "\n",
        "y_true = np.argmax(y_test, axis=1)\n",
        "y_pred_classes = np.argmax(y_pred, axis=1)\n",
        "\n",
        "print(classification_report(y_true, y_pred_classes, target_names=class_labels))\n",
        "\n",
        "cm = confusion_matrix(y_true, y_pred_classes)\n",
        "sns.heatmap(cm, annot=True, fmt='d', xticklabels=class_labels, yticklabels=class_labels, cmap='Blues')\n",
        "plt.xlabel(\"Predicted\")\n",
        "plt.ylabel(\"True\")\n",
        "plt.title(\"Confusion Matrix\")\n",
        "plt.show()\n"
      ]
    }
  ],
  "metadata": {
    "colab": {
      "provenance": [],
      "gpuType": "T4"
    },
    "kernelspec": {
      "display_name": "Python 3",
      "name": "python3"
    },
    "language_info": {
      "name": "python"
    },
    "widgets": {
      "application/vnd.jupyter.widget-state+json": {
        "05441fe1ebc045d29ad80d111101c34d": {
          "model_module": "@jupyter-widgets/base",
          "model_module_version": "1.2.0",
          "model_name": "LayoutModel",
          "state": {
            "_model_module": "@jupyter-widgets/base",
            "_model_module_version": "1.2.0",
            "_model_name": "LayoutModel",
            "_view_count": null,
            "_view_module": "@jupyter-widgets/base",
            "_view_module_version": "1.2.0",
            "_view_name": "LayoutView",
            "align_content": null,
            "align_items": null,
            "align_self": null,
            "border": null,
            "bottom": null,
            "display": null,
            "flex": null,
            "flex_flow": null,
            "grid_area": null,
            "grid_auto_columns": null,
            "grid_auto_flow": null,
            "grid_auto_rows": null,
            "grid_column": null,
            "grid_gap": null,
            "grid_row": null,
            "grid_template_areas": null,
            "grid_template_columns": null,
            "grid_template_rows": null,
            "height": null,
            "justify_content": null,
            "justify_items": null,
            "left": null,
            "margin": null,
            "max_height": null,
            "max_width": null,
            "min_height": null,
            "min_width": null,
            "object_fit": null,
            "object_position": null,
            "order": null,
            "overflow": null,
            "overflow_x": null,
            "overflow_y": null,
            "padding": null,
            "right": null,
            "top": null,
            "visibility": null,
            "width": null
          }
        },
        "056d69ca479642a39ba7433237dd492d": {
          "model_module": "@jupyter-widgets/controls",
          "model_module_version": "1.5.0",
          "model_name": "FloatProgressModel",
          "state": {
            "_dom_classes": [],
            "_model_module": "@jupyter-widgets/controls",
            "_model_module_version": "1.5.0",
            "_model_name": "FloatProgressModel",
            "_view_count": null,
            "_view_module": "@jupyter-widgets/controls",
            "_view_module_version": "1.5.0",
            "_view_name": "ProgressView",
            "bar_style": "success",
            "description": "",
            "description_tooltip": null,
            "layout": "IPY_MODEL_09090cd0efc64846887320ec0c82aee8",
            "max": 85,
            "min": 0,
            "orientation": "horizontal",
            "style": "IPY_MODEL_26d46b02e16a40fc811d8dd36b7fb5df",
            "value": 85
          }
        },
        "088f9cf6386c4367bb5b55677e4a7be2": {
          "model_module": "@jupyter-widgets/controls",
          "model_module_version": "1.5.0",
          "model_name": "HBoxModel",
          "state": {
            "_dom_classes": [],
            "_model_module": "@jupyter-widgets/controls",
            "_model_module_version": "1.5.0",
            "_model_name": "HBoxModel",
            "_view_count": null,
            "_view_module": "@jupyter-widgets/controls",
            "_view_module_version": "1.5.0",
            "_view_name": "HBoxView",
            "box_style": "",
            "children": [
              "IPY_MODEL_37edadc1e0ee45f8bc2350d5b1b37002",
              "IPY_MODEL_056d69ca479642a39ba7433237dd492d",
              "IPY_MODEL_de8526184897403d9c0ad3f9bef8c41f"
            ],
            "layout": "IPY_MODEL_5240775d4c2a4428aad78eb3e9cb84d2"
          }
        },
        "09090cd0efc64846887320ec0c82aee8": {
          "model_module": "@jupyter-widgets/base",
          "model_module_version": "1.2.0",
          "model_name": "LayoutModel",
          "state": {
            "_model_module": "@jupyter-widgets/base",
            "_model_module_version": "1.2.0",
            "_model_name": "LayoutModel",
            "_view_count": null,
            "_view_module": "@jupyter-widgets/base",
            "_view_module_version": "1.2.0",
            "_view_name": "LayoutView",
            "align_content": null,
            "align_items": null,
            "align_self": null,
            "border": null,
            "bottom": null,
            "display": null,
            "flex": null,
            "flex_flow": null,
            "grid_area": null,
            "grid_auto_columns": null,
            "grid_auto_flow": null,
            "grid_auto_rows": null,
            "grid_column": null,
            "grid_gap": null,
            "grid_row": null,
            "grid_template_areas": null,
            "grid_template_columns": null,
            "grid_template_rows": null,
            "height": null,
            "justify_content": null,
            "justify_items": null,
            "left": null,
            "margin": null,
            "max_height": null,
            "max_width": null,
            "min_height": null,
            "min_width": null,
            "object_fit": null,
            "object_position": null,
            "order": null,
            "overflow": null,
            "overflow_x": null,
            "overflow_y": null,
            "padding": null,
            "right": null,
            "top": null,
            "visibility": null,
            "width": null
          }
        },
        "0e838aa1517b44c8948ea06c2e9a875c": {
          "model_module": "@jupyter-widgets/base",
          "model_module_version": "1.2.0",
          "model_name": "LayoutModel",
          "state": {
            "_model_module": "@jupyter-widgets/base",
            "_model_module_version": "1.2.0",
            "_model_name": "LayoutModel",
            "_view_count": null,
            "_view_module": "@jupyter-widgets/base",
            "_view_module_version": "1.2.0",
            "_view_name": "LayoutView",
            "align_content": null,
            "align_items": null,
            "align_self": null,
            "border": null,
            "bottom": null,
            "display": null,
            "flex": null,
            "flex_flow": null,
            "grid_area": null,
            "grid_auto_columns": null,
            "grid_auto_flow": null,
            "grid_auto_rows": null,
            "grid_column": null,
            "grid_gap": null,
            "grid_row": null,
            "grid_template_areas": null,
            "grid_template_columns": null,
            "grid_template_rows": null,
            "height": null,
            "justify_content": null,
            "justify_items": null,
            "left": null,
            "margin": null,
            "max_height": null,
            "max_width": null,
            "min_height": null,
            "min_width": null,
            "object_fit": null,
            "object_position": null,
            "order": null,
            "overflow": null,
            "overflow_x": null,
            "overflow_y": null,
            "padding": null,
            "right": null,
            "top": null,
            "visibility": null,
            "width": null
          }
        },
        "174d0906d1d34a72b70b65488baa51c6": {
          "model_module": "@jupyter-widgets/base",
          "model_module_version": "1.2.0",
          "model_name": "LayoutModel",
          "state": {
            "_model_module": "@jupyter-widgets/base",
            "_model_module_version": "1.2.0",
            "_model_name": "LayoutModel",
            "_view_count": null,
            "_view_module": "@jupyter-widgets/base",
            "_view_module_version": "1.2.0",
            "_view_name": "LayoutView",
            "align_content": null,
            "align_items": null,
            "align_self": null,
            "border": null,
            "bottom": null,
            "display": null,
            "flex": null,
            "flex_flow": null,
            "grid_area": null,
            "grid_auto_columns": null,
            "grid_auto_flow": null,
            "grid_auto_rows": null,
            "grid_column": null,
            "grid_gap": null,
            "grid_row": null,
            "grid_template_areas": null,
            "grid_template_columns": null,
            "grid_template_rows": null,
            "height": null,
            "justify_content": null,
            "justify_items": null,
            "left": null,
            "margin": null,
            "max_height": null,
            "max_width": null,
            "min_height": null,
            "min_width": null,
            "object_fit": null,
            "object_position": null,
            "order": null,
            "overflow": null,
            "overflow_x": null,
            "overflow_y": null,
            "padding": null,
            "right": null,
            "top": null,
            "visibility": null,
            "width": null
          }
        },
        "1844dff04c8f41bf959b41512714144a": {
          "model_module": "@jupyter-widgets/base",
          "model_module_version": "1.2.0",
          "model_name": "LayoutModel",
          "state": {
            "_model_module": "@jupyter-widgets/base",
            "_model_module_version": "1.2.0",
            "_model_name": "LayoutModel",
            "_view_count": null,
            "_view_module": "@jupyter-widgets/base",
            "_view_module_version": "1.2.0",
            "_view_name": "LayoutView",
            "align_content": null,
            "align_items": null,
            "align_self": null,
            "border": null,
            "bottom": null,
            "display": null,
            "flex": null,
            "flex_flow": null,
            "grid_area": null,
            "grid_auto_columns": null,
            "grid_auto_flow": null,
            "grid_auto_rows": null,
            "grid_column": null,
            "grid_gap": null,
            "grid_row": null,
            "grid_template_areas": null,
            "grid_template_columns": null,
            "grid_template_rows": null,
            "height": null,
            "justify_content": null,
            "justify_items": null,
            "left": null,
            "margin": null,
            "max_height": null,
            "max_width": null,
            "min_height": null,
            "min_width": null,
            "object_fit": null,
            "object_position": null,
            "order": null,
            "overflow": null,
            "overflow_x": null,
            "overflow_y": null,
            "padding": null,
            "right": null,
            "top": null,
            "visibility": null,
            "width": null
          }
        },
        "19673c6c4b7f4a9bb65332a1edc6f0f8": {
          "model_module": "@jupyter-widgets/controls",
          "model_module_version": "1.5.0",
          "model_name": "DescriptionStyleModel",
          "state": {
            "_model_module": "@jupyter-widgets/controls",
            "_model_module_version": "1.5.0",
            "_model_name": "DescriptionStyleModel",
            "_view_count": null,
            "_view_module": "@jupyter-widgets/base",
            "_view_module_version": "1.2.0",
            "_view_name": "StyleView",
            "description_width": ""
          }
        },
        "1b14c37cb82245bd952dc804f81972f5": {
          "model_module": "@jupyter-widgets/base",
          "model_module_version": "1.2.0",
          "model_name": "LayoutModel",
          "state": {
            "_model_module": "@jupyter-widgets/base",
            "_model_module_version": "1.2.0",
            "_model_name": "LayoutModel",
            "_view_count": null,
            "_view_module": "@jupyter-widgets/base",
            "_view_module_version": "1.2.0",
            "_view_name": "LayoutView",
            "align_content": null,
            "align_items": null,
            "align_self": null,
            "border": null,
            "bottom": null,
            "display": null,
            "flex": null,
            "flex_flow": null,
            "grid_area": null,
            "grid_auto_columns": null,
            "grid_auto_flow": null,
            "grid_auto_rows": null,
            "grid_column": null,
            "grid_gap": null,
            "grid_row": null,
            "grid_template_areas": null,
            "grid_template_columns": null,
            "grid_template_rows": null,
            "height": null,
            "justify_content": null,
            "justify_items": null,
            "left": null,
            "margin": null,
            "max_height": null,
            "max_width": null,
            "min_height": null,
            "min_width": null,
            "object_fit": null,
            "object_position": null,
            "order": null,
            "overflow": null,
            "overflow_x": null,
            "overflow_y": null,
            "padding": null,
            "right": null,
            "top": null,
            "visibility": null,
            "width": null
          }
        },
        "1e7237ae44a541ecaa76afb3faa57a7a": {
          "model_module": "@jupyter-widgets/controls",
          "model_module_version": "1.5.0",
          "model_name": "DescriptionStyleModel",
          "state": {
            "_model_module": "@jupyter-widgets/controls",
            "_model_module_version": "1.5.0",
            "_model_name": "DescriptionStyleModel",
            "_view_count": null,
            "_view_module": "@jupyter-widgets/base",
            "_view_module_version": "1.2.0",
            "_view_name": "StyleView",
            "description_width": ""
          }
        },
        "1f389b01d9d549fda8f43999352036d0": {
          "model_module": "@jupyter-widgets/controls",
          "model_module_version": "1.5.0",
          "model_name": "HBoxModel",
          "state": {
            "_dom_classes": [],
            "_model_module": "@jupyter-widgets/controls",
            "_model_module_version": "1.5.0",
            "_model_name": "HBoxModel",
            "_view_count": null,
            "_view_module": "@jupyter-widgets/controls",
            "_view_module_version": "1.5.0",
            "_view_name": "HBoxView",
            "box_style": "",
            "children": [
              "IPY_MODEL_984c9c13bf3c487bada8674f66174c83",
              "IPY_MODEL_43b846c3e423428485d254e946ab24ef",
              "IPY_MODEL_64da7b5dd9324db1949a925a6449a6ef"
            ],
            "layout": "IPY_MODEL_0e838aa1517b44c8948ea06c2e9a875c"
          }
        },
        "260d33c616e841c09ac00520343e93b3": {
          "model_module": "@jupyter-widgets/controls",
          "model_module_version": "1.5.0",
          "model_name": "ProgressStyleModel",
          "state": {
            "_model_module": "@jupyter-widgets/controls",
            "_model_module_version": "1.5.0",
            "_model_name": "ProgressStyleModel",
            "_view_count": null,
            "_view_module": "@jupyter-widgets/base",
            "_view_module_version": "1.2.0",
            "_view_name": "StyleView",
            "bar_color": null,
            "description_width": ""
          }
        },
        "26d46b02e16a40fc811d8dd36b7fb5df": {
          "model_module": "@jupyter-widgets/controls",
          "model_module_version": "1.5.0",
          "model_name": "ProgressStyleModel",
          "state": {
            "_model_module": "@jupyter-widgets/controls",
            "_model_module_version": "1.5.0",
            "_model_name": "ProgressStyleModel",
            "_view_count": null,
            "_view_module": "@jupyter-widgets/base",
            "_view_module_version": "1.2.0",
            "_view_name": "StyleView",
            "bar_color": null,
            "description_width": ""
          }
        },
        "26f8a6284eaf42698dcb4163b0b4501d": {
          "model_module": "@jupyter-widgets/controls",
          "model_module_version": "1.5.0",
          "model_name": "FloatProgressModel",
          "state": {
            "_dom_classes": [],
            "_model_module": "@jupyter-widgets/controls",
            "_model_module_version": "1.5.0",
            "_model_name": "FloatProgressModel",
            "_view_count": null,
            "_view_module": "@jupyter-widgets/controls",
            "_view_module_version": "1.5.0",
            "_view_name": "ProgressView",
            "bar_style": "success",
            "description": "",
            "description_tooltip": null,
            "layout": "IPY_MODEL_d76549c10e2d4f79ac4309d46d756ae2",
            "max": 300,
            "min": 0,
            "orientation": "horizontal",
            "style": "IPY_MODEL_50f7f9ec269a41759111d9e00916b636",
            "value": 300
          }
        },
        "37edadc1e0ee45f8bc2350d5b1b37002": {
          "model_module": "@jupyter-widgets/controls",
          "model_module_version": "1.5.0",
          "model_name": "HTMLModel",
          "state": {
            "_dom_classes": [],
            "_model_module": "@jupyter-widgets/controls",
            "_model_module_version": "1.5.0",
            "_model_name": "HTMLModel",
            "_view_count": null,
            "_view_module": "@jupyter-widgets/controls",
            "_view_module_version": "1.5.0",
            "_view_name": "HTMLView",
            "description": "",
            "description_tooltip": null,
            "layout": "IPY_MODEL_a40fad5807c14bfd8a905650ef7a4bc1",
            "placeholder": "​",
            "style": "IPY_MODEL_ec7c5b97a9b9429f886669789bba0c4c",
            "value": "special_tokens_map.json: 100%"
          }
        },
        "3c494ae6c7264ea4b51679fa06c4ddcd": {
          "model_module": "@jupyter-widgets/controls",
          "model_module_version": "1.5.0",
          "model_name": "HBoxModel",
          "state": {
            "_dom_classes": [],
            "_model_module": "@jupyter-widgets/controls",
            "_model_module_version": "1.5.0",
            "_model_name": "HBoxModel",
            "_view_count": null,
            "_view_module": "@jupyter-widgets/controls",
            "_view_module_version": "1.5.0",
            "_view_name": "HBoxView",
            "box_style": "",
            "children": [
              "IPY_MODEL_44b3b9d4c93e4221872ddc64a339a0c2",
              "IPY_MODEL_26f8a6284eaf42698dcb4163b0b4501d",
              "IPY_MODEL_5e6383eb96964249b166ff00fddf1b29"
            ],
            "layout": "IPY_MODEL_9fceea9fe7a1441eba5c7b16b06db9cb"
          }
        },
        "3eee5cacc6b342739f347324a101b733": {
          "model_module": "@jupyter-widgets/controls",
          "model_module_version": "1.5.0",
          "model_name": "DescriptionStyleModel",
          "state": {
            "_model_module": "@jupyter-widgets/controls",
            "_model_module_version": "1.5.0",
            "_model_name": "DescriptionStyleModel",
            "_view_count": null,
            "_view_module": "@jupyter-widgets/base",
            "_view_module_version": "1.2.0",
            "_view_name": "StyleView",
            "description_width": ""
          }
        },
        "43b846c3e423428485d254e946ab24ef": {
          "model_module": "@jupyter-widgets/controls",
          "model_module_version": "1.5.0",
          "model_name": "FloatProgressModel",
          "state": {
            "_dom_classes": [],
            "_model_module": "@jupyter-widgets/controls",
            "_model_module_version": "1.5.0",
            "_model_name": "FloatProgressModel",
            "_view_count": null,
            "_view_module": "@jupyter-widgets/controls",
            "_view_module_version": "1.5.0",
            "_view_name": "ProgressView",
            "bar_style": "success",
            "description": "",
            "description_tooltip": null,
            "layout": "IPY_MODEL_c4b2bdd880a841a7a7cd16761de612fd",
            "max": 262,
            "min": 0,
            "orientation": "horizontal",
            "style": "IPY_MODEL_6754cb83c0604d5cb1992ca7054f4470",
            "value": 262
          }
        },
        "44b3b9d4c93e4221872ddc64a339a0c2": {
          "model_module": "@jupyter-widgets/controls",
          "model_module_version": "1.5.0",
          "model_name": "HTMLModel",
          "state": {
            "_dom_classes": [],
            "_model_module": "@jupyter-widgets/controls",
            "_model_module_version": "1.5.0",
            "_model_name": "HTMLModel",
            "_view_count": null,
            "_view_module": "@jupyter-widgets/controls",
            "_view_module_version": "1.5.0",
            "_view_name": "HTMLView",
            "description": "",
            "description_tooltip": null,
            "layout": "IPY_MODEL_e0c49e27bac04a1eb64fac70180e1614",
            "placeholder": "​",
            "style": "IPY_MODEL_dc3cb0364f6a4977981f9bf6b71c1e0a",
            "value": "vocab.json: 100%"
          }
        },
        "50f7f9ec269a41759111d9e00916b636": {
          "model_module": "@jupyter-widgets/controls",
          "model_module_version": "1.5.0",
          "model_name": "ProgressStyleModel",
          "state": {
            "_model_module": "@jupyter-widgets/controls",
            "_model_module_version": "1.5.0",
            "_model_name": "ProgressStyleModel",
            "_view_count": null,
            "_view_module": "@jupyter-widgets/base",
            "_view_module_version": "1.2.0",
            "_view_name": "StyleView",
            "bar_color": null,
            "description_width": ""
          }
        },
        "5240775d4c2a4428aad78eb3e9cb84d2": {
          "model_module": "@jupyter-widgets/base",
          "model_module_version": "1.2.0",
          "model_name": "LayoutModel",
          "state": {
            "_model_module": "@jupyter-widgets/base",
            "_model_module_version": "1.2.0",
            "_model_name": "LayoutModel",
            "_view_count": null,
            "_view_module": "@jupyter-widgets/base",
            "_view_module_version": "1.2.0",
            "_view_name": "LayoutView",
            "align_content": null,
            "align_items": null,
            "align_self": null,
            "border": null,
            "bottom": null,
            "display": null,
            "flex": null,
            "flex_flow": null,
            "grid_area": null,
            "grid_auto_columns": null,
            "grid_auto_flow": null,
            "grid_auto_rows": null,
            "grid_column": null,
            "grid_gap": null,
            "grid_row": null,
            "grid_template_areas": null,
            "grid_template_columns": null,
            "grid_template_rows": null,
            "height": null,
            "justify_content": null,
            "justify_items": null,
            "left": null,
            "margin": null,
            "max_height": null,
            "max_width": null,
            "min_height": null,
            "min_width": null,
            "object_fit": null,
            "object_position": null,
            "order": null,
            "overflow": null,
            "overflow_x": null,
            "overflow_y": null,
            "padding": null,
            "right": null,
            "top": null,
            "visibility": null,
            "width": null
          }
        },
        "5c3ededc6a8f4fce965624ed18be4c4e": {
          "model_module": "@jupyter-widgets/controls",
          "model_module_version": "1.5.0",
          "model_name": "HTMLModel",
          "state": {
            "_dom_classes": [],
            "_model_module": "@jupyter-widgets/controls",
            "_model_module_version": "1.5.0",
            "_model_name": "HTMLModel",
            "_view_count": null,
            "_view_module": "@jupyter-widgets/controls",
            "_view_module_version": "1.5.0",
            "_view_name": "HTMLView",
            "description": "",
            "description_tooltip": null,
            "layout": "IPY_MODEL_83fdfc1c4e694fafb3919bf7d6113abc",
            "placeholder": "​",
            "style": "IPY_MODEL_1e7237ae44a541ecaa76afb3faa57a7a",
            "value": " 1.53k/1.53k [00:00&lt;00:00, 46.6kB/s]"
          }
        },
        "5c4dd9d3864c41d5839b66756b90c81f": {
          "model_module": "@jupyter-widgets/controls",
          "model_module_version": "1.5.0",
          "model_name": "HTMLModel",
          "state": {
            "_dom_classes": [],
            "_model_module": "@jupyter-widgets/controls",
            "_model_module_version": "1.5.0",
            "_model_name": "HTMLModel",
            "_view_count": null,
            "_view_module": "@jupyter-widgets/controls",
            "_view_module_version": "1.5.0",
            "_view_name": "HTMLView",
            "description": "",
            "description_tooltip": null,
            "layout": "IPY_MODEL_7a179f68427a4f5faddb55d598b7f5c6",
            "placeholder": "​",
            "style": "IPY_MODEL_19673c6c4b7f4a9bb65332a1edc6f0f8",
            "value": " 1.26G/1.26G [00:06&lt;00:00, 205MB/s]"
          }
        },
        "5e6383eb96964249b166ff00fddf1b29": {
          "model_module": "@jupyter-widgets/controls",
          "model_module_version": "1.5.0",
          "model_name": "HTMLModel",
          "state": {
            "_dom_classes": [],
            "_model_module": "@jupyter-widgets/controls",
            "_model_module_version": "1.5.0",
            "_model_name": "HTMLModel",
            "_view_count": null,
            "_view_module": "@jupyter-widgets/controls",
            "_view_module_version": "1.5.0",
            "_view_name": "HTMLView",
            "description": "",
            "description_tooltip": null,
            "layout": "IPY_MODEL_aeccca0b09de41c59ef617de15ab7c65",
            "placeholder": "​",
            "style": "IPY_MODEL_b2028c36badf413c97d66db069bf11ff",
            "value": " 300/300 [00:00&lt;00:00, 7.08kB/s]"
          }
        },
        "5f9a9a8886854d37a8ce0594de7fa42e": {
          "model_module": "@jupyter-widgets/base",
          "model_module_version": "1.2.0",
          "model_name": "LayoutModel",
          "state": {
            "_model_module": "@jupyter-widgets/base",
            "_model_module_version": "1.2.0",
            "_model_name": "LayoutModel",
            "_view_count": null,
            "_view_module": "@jupyter-widgets/base",
            "_view_module_version": "1.2.0",
            "_view_name": "LayoutView",
            "align_content": null,
            "align_items": null,
            "align_self": null,
            "border": null,
            "bottom": null,
            "display": null,
            "flex": null,
            "flex_flow": null,
            "grid_area": null,
            "grid_auto_columns": null,
            "grid_auto_flow": null,
            "grid_auto_rows": null,
            "grid_column": null,
            "grid_gap": null,
            "grid_row": null,
            "grid_template_areas": null,
            "grid_template_columns": null,
            "grid_template_rows": null,
            "height": null,
            "justify_content": null,
            "justify_items": null,
            "left": null,
            "margin": null,
            "max_height": null,
            "max_width": null,
            "min_height": null,
            "min_width": null,
            "object_fit": null,
            "object_position": null,
            "order": null,
            "overflow": null,
            "overflow_x": null,
            "overflow_y": null,
            "padding": null,
            "right": null,
            "top": null,
            "visibility": null,
            "width": null
          }
        },
        "64da7b5dd9324db1949a925a6449a6ef": {
          "model_module": "@jupyter-widgets/controls",
          "model_module_version": "1.5.0",
          "model_name": "HTMLModel",
          "state": {
            "_dom_classes": [],
            "_model_module": "@jupyter-widgets/controls",
            "_model_module_version": "1.5.0",
            "_model_name": "HTMLModel",
            "_view_count": null,
            "_view_module": "@jupyter-widgets/controls",
            "_view_module_version": "1.5.0",
            "_view_name": "HTMLView",
            "description": "",
            "description_tooltip": null,
            "layout": "IPY_MODEL_5f9a9a8886854d37a8ce0594de7fa42e",
            "placeholder": "​",
            "style": "IPY_MODEL_bda0de6b48e24111a89d75213dea06f8",
            "value": " 262/262 [00:00&lt;00:00, 10.6kB/s]"
          }
        },
        "6547770f25154670a0e733cbaf8eb83c": {
          "model_module": "@jupyter-widgets/base",
          "model_module_version": "1.2.0",
          "model_name": "LayoutModel",
          "state": {
            "_model_module": "@jupyter-widgets/base",
            "_model_module_version": "1.2.0",
            "_model_name": "LayoutModel",
            "_view_count": null,
            "_view_module": "@jupyter-widgets/base",
            "_view_module_version": "1.2.0",
            "_view_name": "LayoutView",
            "align_content": null,
            "align_items": null,
            "align_self": null,
            "border": null,
            "bottom": null,
            "display": null,
            "flex": null,
            "flex_flow": null,
            "grid_area": null,
            "grid_auto_columns": null,
            "grid_auto_flow": null,
            "grid_auto_rows": null,
            "grid_column": null,
            "grid_gap": null,
            "grid_row": null,
            "grid_template_areas": null,
            "grid_template_columns": null,
            "grid_template_rows": null,
            "height": null,
            "justify_content": null,
            "justify_items": null,
            "left": null,
            "margin": null,
            "max_height": null,
            "max_width": null,
            "min_height": null,
            "min_width": null,
            "object_fit": null,
            "object_position": null,
            "order": null,
            "overflow": null,
            "overflow_x": null,
            "overflow_y": null,
            "padding": null,
            "right": null,
            "top": null,
            "visibility": null,
            "width": null
          }
        },
        "65fe548be528454ea264c70d831bba6b": {
          "model_module": "@jupyter-widgets/base",
          "model_module_version": "1.2.0",
          "model_name": "LayoutModel",
          "state": {
            "_model_module": "@jupyter-widgets/base",
            "_model_module_version": "1.2.0",
            "_model_name": "LayoutModel",
            "_view_count": null,
            "_view_module": "@jupyter-widgets/base",
            "_view_module_version": "1.2.0",
            "_view_name": "LayoutView",
            "align_content": null,
            "align_items": null,
            "align_self": null,
            "border": null,
            "bottom": null,
            "display": null,
            "flex": null,
            "flex_flow": null,
            "grid_area": null,
            "grid_auto_columns": null,
            "grid_auto_flow": null,
            "grid_auto_rows": null,
            "grid_column": null,
            "grid_gap": null,
            "grid_row": null,
            "grid_template_areas": null,
            "grid_template_columns": null,
            "grid_template_rows": null,
            "height": null,
            "justify_content": null,
            "justify_items": null,
            "left": null,
            "margin": null,
            "max_height": null,
            "max_width": null,
            "min_height": null,
            "min_width": null,
            "object_fit": null,
            "object_position": null,
            "order": null,
            "overflow": null,
            "overflow_x": null,
            "overflow_y": null,
            "padding": null,
            "right": null,
            "top": null,
            "visibility": null,
            "width": null
          }
        },
        "6754cb83c0604d5cb1992ca7054f4470": {
          "model_module": "@jupyter-widgets/controls",
          "model_module_version": "1.5.0",
          "model_name": "ProgressStyleModel",
          "state": {
            "_model_module": "@jupyter-widgets/controls",
            "_model_module_version": "1.5.0",
            "_model_name": "ProgressStyleModel",
            "_view_count": null,
            "_view_module": "@jupyter-widgets/base",
            "_view_module_version": "1.2.0",
            "_view_name": "StyleView",
            "bar_color": null,
            "description_width": ""
          }
        },
        "73a30567398349c39a270dd35eea9586": {
          "model_module": "@jupyter-widgets/controls",
          "model_module_version": "1.5.0",
          "model_name": "DescriptionStyleModel",
          "state": {
            "_model_module": "@jupyter-widgets/controls",
            "_model_module_version": "1.5.0",
            "_model_name": "DescriptionStyleModel",
            "_view_count": null,
            "_view_module": "@jupyter-widgets/base",
            "_view_module_version": "1.2.0",
            "_view_name": "StyleView",
            "description_width": ""
          }
        },
        "7a179f68427a4f5faddb55d598b7f5c6": {
          "model_module": "@jupyter-widgets/base",
          "model_module_version": "1.2.0",
          "model_name": "LayoutModel",
          "state": {
            "_model_module": "@jupyter-widgets/base",
            "_model_module_version": "1.2.0",
            "_model_name": "LayoutModel",
            "_view_count": null,
            "_view_module": "@jupyter-widgets/base",
            "_view_module_version": "1.2.0",
            "_view_name": "LayoutView",
            "align_content": null,
            "align_items": null,
            "align_self": null,
            "border": null,
            "bottom": null,
            "display": null,
            "flex": null,
            "flex_flow": null,
            "grid_area": null,
            "grid_auto_columns": null,
            "grid_auto_flow": null,
            "grid_auto_rows": null,
            "grid_column": null,
            "grid_gap": null,
            "grid_row": null,
            "grid_template_areas": null,
            "grid_template_columns": null,
            "grid_template_rows": null,
            "height": null,
            "justify_content": null,
            "justify_items": null,
            "left": null,
            "margin": null,
            "max_height": null,
            "max_width": null,
            "min_height": null,
            "min_width": null,
            "object_fit": null,
            "object_position": null,
            "order": null,
            "overflow": null,
            "overflow_x": null,
            "overflow_y": null,
            "padding": null,
            "right": null,
            "top": null,
            "visibility": null,
            "width": null
          }
        },
        "81913e0076b94402b161dfd578cc2453": {
          "model_module": "@jupyter-widgets/controls",
          "model_module_version": "1.5.0",
          "model_name": "ProgressStyleModel",
          "state": {
            "_model_module": "@jupyter-widgets/controls",
            "_model_module_version": "1.5.0",
            "_model_name": "ProgressStyleModel",
            "_view_count": null,
            "_view_module": "@jupyter-widgets/base",
            "_view_module_version": "1.2.0",
            "_view_name": "StyleView",
            "bar_color": null,
            "description_width": ""
          }
        },
        "83fdfc1c4e694fafb3919bf7d6113abc": {
          "model_module": "@jupyter-widgets/base",
          "model_module_version": "1.2.0",
          "model_name": "LayoutModel",
          "state": {
            "_model_module": "@jupyter-widgets/base",
            "_model_module_version": "1.2.0",
            "_model_name": "LayoutModel",
            "_view_count": null,
            "_view_module": "@jupyter-widgets/base",
            "_view_module_version": "1.2.0",
            "_view_name": "LayoutView",
            "align_content": null,
            "align_items": null,
            "align_self": null,
            "border": null,
            "bottom": null,
            "display": null,
            "flex": null,
            "flex_flow": null,
            "grid_area": null,
            "grid_auto_columns": null,
            "grid_auto_flow": null,
            "grid_auto_rows": null,
            "grid_column": null,
            "grid_gap": null,
            "grid_row": null,
            "grid_template_areas": null,
            "grid_template_columns": null,
            "grid_template_rows": null,
            "height": null,
            "justify_content": null,
            "justify_items": null,
            "left": null,
            "margin": null,
            "max_height": null,
            "max_width": null,
            "min_height": null,
            "min_width": null,
            "object_fit": null,
            "object_position": null,
            "order": null,
            "overflow": null,
            "overflow_x": null,
            "overflow_y": null,
            "padding": null,
            "right": null,
            "top": null,
            "visibility": null,
            "width": null
          }
        },
        "8a2331a7a02d475d9bb4bd52822e5696": {
          "model_module": "@jupyter-widgets/controls",
          "model_module_version": "1.5.0",
          "model_name": "HTMLModel",
          "state": {
            "_dom_classes": [],
            "_model_module": "@jupyter-widgets/controls",
            "_model_module_version": "1.5.0",
            "_model_name": "HTMLModel",
            "_view_count": null,
            "_view_module": "@jupyter-widgets/controls",
            "_view_module_version": "1.5.0",
            "_view_name": "HTMLView",
            "description": "",
            "description_tooltip": null,
            "layout": "IPY_MODEL_aa7eb8181379489d9a0323e426ba5d69",
            "placeholder": "​",
            "style": "IPY_MODEL_a356bd5c31cc4905acedafea36756b1c",
            "value": "model.safetensors: 100%"
          }
        },
        "96c702f440f3447bae7333bccbc23f49": {
          "model_module": "@jupyter-widgets/controls",
          "model_module_version": "1.5.0",
          "model_name": "FloatProgressModel",
          "state": {
            "_dom_classes": [],
            "_model_module": "@jupyter-widgets/controls",
            "_model_module_version": "1.5.0",
            "_model_name": "FloatProgressModel",
            "_view_count": null,
            "_view_module": "@jupyter-widgets/controls",
            "_view_module_version": "1.5.0",
            "_view_name": "ProgressView",
            "bar_style": "success",
            "description": "",
            "description_tooltip": null,
            "layout": "IPY_MODEL_1b14c37cb82245bd952dc804f81972f5",
            "max": 1261942732,
            "min": 0,
            "orientation": "horizontal",
            "style": "IPY_MODEL_81913e0076b94402b161dfd578cc2453",
            "value": 1261942732
          }
        },
        "984c9c13bf3c487bada8674f66174c83": {
          "model_module": "@jupyter-widgets/controls",
          "model_module_version": "1.5.0",
          "model_name": "HTMLModel",
          "state": {
            "_dom_classes": [],
            "_model_module": "@jupyter-widgets/controls",
            "_model_module_version": "1.5.0",
            "_model_name": "HTMLModel",
            "_view_count": null,
            "_view_module": "@jupyter-widgets/controls",
            "_view_module_version": "1.5.0",
            "_view_name": "HTMLView",
            "description": "",
            "description_tooltip": null,
            "layout": "IPY_MODEL_05441fe1ebc045d29ad80d111101c34d",
            "placeholder": "​",
            "style": "IPY_MODEL_d90cbd5e8eaa4a219fae1537cac4f3ad",
            "value": "preprocessor_config.json: 100%"
          }
        },
        "9cdd56c1a1754e87bfd7f9400b72adbf": {
          "model_module": "@jupyter-widgets/controls",
          "model_module_version": "1.5.0",
          "model_name": "HBoxModel",
          "state": {
            "_dom_classes": [],
            "_model_module": "@jupyter-widgets/controls",
            "_model_module_version": "1.5.0",
            "_model_name": "HBoxModel",
            "_view_count": null,
            "_view_module": "@jupyter-widgets/controls",
            "_view_module_version": "1.5.0",
            "_view_name": "HBoxView",
            "box_style": "",
            "children": [
              "IPY_MODEL_8a2331a7a02d475d9bb4bd52822e5696",
              "IPY_MODEL_96c702f440f3447bae7333bccbc23f49",
              "IPY_MODEL_5c4dd9d3864c41d5839b66756b90c81f"
            ],
            "layout": "IPY_MODEL_65fe548be528454ea264c70d831bba6b"
          }
        },
        "9fceea9fe7a1441eba5c7b16b06db9cb": {
          "model_module": "@jupyter-widgets/base",
          "model_module_version": "1.2.0",
          "model_name": "LayoutModel",
          "state": {
            "_model_module": "@jupyter-widgets/base",
            "_model_module_version": "1.2.0",
            "_model_name": "LayoutModel",
            "_view_count": null,
            "_view_module": "@jupyter-widgets/base",
            "_view_module_version": "1.2.0",
            "_view_name": "LayoutView",
            "align_content": null,
            "align_items": null,
            "align_self": null,
            "border": null,
            "bottom": null,
            "display": null,
            "flex": null,
            "flex_flow": null,
            "grid_area": null,
            "grid_auto_columns": null,
            "grid_auto_flow": null,
            "grid_auto_rows": null,
            "grid_column": null,
            "grid_gap": null,
            "grid_row": null,
            "grid_template_areas": null,
            "grid_template_columns": null,
            "grid_template_rows": null,
            "height": null,
            "justify_content": null,
            "justify_items": null,
            "left": null,
            "margin": null,
            "max_height": null,
            "max_width": null,
            "min_height": null,
            "min_width": null,
            "object_fit": null,
            "object_position": null,
            "order": null,
            "overflow": null,
            "overflow_x": null,
            "overflow_y": null,
            "padding": null,
            "right": null,
            "top": null,
            "visibility": null,
            "width": null
          }
        },
        "a356bd5c31cc4905acedafea36756b1c": {
          "model_module": "@jupyter-widgets/controls",
          "model_module_version": "1.5.0",
          "model_name": "DescriptionStyleModel",
          "state": {
            "_model_module": "@jupyter-widgets/controls",
            "_model_module_version": "1.5.0",
            "_model_name": "DescriptionStyleModel",
            "_view_count": null,
            "_view_module": "@jupyter-widgets/base",
            "_view_module_version": "1.2.0",
            "_view_name": "StyleView",
            "description_width": ""
          }
        },
        "a40fad5807c14bfd8a905650ef7a4bc1": {
          "model_module": "@jupyter-widgets/base",
          "model_module_version": "1.2.0",
          "model_name": "LayoutModel",
          "state": {
            "_model_module": "@jupyter-widgets/base",
            "_model_module_version": "1.2.0",
            "_model_name": "LayoutModel",
            "_view_count": null,
            "_view_module": "@jupyter-widgets/base",
            "_view_module_version": "1.2.0",
            "_view_name": "LayoutView",
            "align_content": null,
            "align_items": null,
            "align_self": null,
            "border": null,
            "bottom": null,
            "display": null,
            "flex": null,
            "flex_flow": null,
            "grid_area": null,
            "grid_auto_columns": null,
            "grid_auto_flow": null,
            "grid_auto_rows": null,
            "grid_column": null,
            "grid_gap": null,
            "grid_row": null,
            "grid_template_areas": null,
            "grid_template_columns": null,
            "grid_template_rows": null,
            "height": null,
            "justify_content": null,
            "justify_items": null,
            "left": null,
            "margin": null,
            "max_height": null,
            "max_width": null,
            "min_height": null,
            "min_width": null,
            "object_fit": null,
            "object_position": null,
            "order": null,
            "overflow": null,
            "overflow_x": null,
            "overflow_y": null,
            "padding": null,
            "right": null,
            "top": null,
            "visibility": null,
            "width": null
          }
        },
        "aa7eb8181379489d9a0323e426ba5d69": {
          "model_module": "@jupyter-widgets/base",
          "model_module_version": "1.2.0",
          "model_name": "LayoutModel",
          "state": {
            "_model_module": "@jupyter-widgets/base",
            "_model_module_version": "1.2.0",
            "_model_name": "LayoutModel",
            "_view_count": null,
            "_view_module": "@jupyter-widgets/base",
            "_view_module_version": "1.2.0",
            "_view_name": "LayoutView",
            "align_content": null,
            "align_items": null,
            "align_self": null,
            "border": null,
            "bottom": null,
            "display": null,
            "flex": null,
            "flex_flow": null,
            "grid_area": null,
            "grid_auto_columns": null,
            "grid_auto_flow": null,
            "grid_auto_rows": null,
            "grid_column": null,
            "grid_gap": null,
            "grid_row": null,
            "grid_template_areas": null,
            "grid_template_columns": null,
            "grid_template_rows": null,
            "height": null,
            "justify_content": null,
            "justify_items": null,
            "left": null,
            "margin": null,
            "max_height": null,
            "max_width": null,
            "min_height": null,
            "min_width": null,
            "object_fit": null,
            "object_position": null,
            "order": null,
            "overflow": null,
            "overflow_x": null,
            "overflow_y": null,
            "padding": null,
            "right": null,
            "top": null,
            "visibility": null,
            "width": null
          }
        },
        "aeccca0b09de41c59ef617de15ab7c65": {
          "model_module": "@jupyter-widgets/base",
          "model_module_version": "1.2.0",
          "model_name": "LayoutModel",
          "state": {
            "_model_module": "@jupyter-widgets/base",
            "_model_module_version": "1.2.0",
            "_model_name": "LayoutModel",
            "_view_count": null,
            "_view_module": "@jupyter-widgets/base",
            "_view_module_version": "1.2.0",
            "_view_name": "LayoutView",
            "align_content": null,
            "align_items": null,
            "align_self": null,
            "border": null,
            "bottom": null,
            "display": null,
            "flex": null,
            "flex_flow": null,
            "grid_area": null,
            "grid_auto_columns": null,
            "grid_auto_flow": null,
            "grid_auto_rows": null,
            "grid_column": null,
            "grid_gap": null,
            "grid_row": null,
            "grid_template_areas": null,
            "grid_template_columns": null,
            "grid_template_rows": null,
            "height": null,
            "justify_content": null,
            "justify_items": null,
            "left": null,
            "margin": null,
            "max_height": null,
            "max_width": null,
            "min_height": null,
            "min_width": null,
            "object_fit": null,
            "object_position": null,
            "order": null,
            "overflow": null,
            "overflow_x": null,
            "overflow_y": null,
            "padding": null,
            "right": null,
            "top": null,
            "visibility": null,
            "width": null
          }
        },
        "af8974c9e0a54e368fa82a6f8bad5571": {
          "model_module": "@jupyter-widgets/controls",
          "model_module_version": "1.5.0",
          "model_name": "HBoxModel",
          "state": {
            "_dom_classes": [],
            "_model_module": "@jupyter-widgets/controls",
            "_model_module_version": "1.5.0",
            "_model_name": "HBoxModel",
            "_view_count": null,
            "_view_module": "@jupyter-widgets/controls",
            "_view_module_version": "1.5.0",
            "_view_name": "HBoxView",
            "box_style": "",
            "children": [
              "IPY_MODEL_bc376d2326f242709f658709dd96f2eb",
              "IPY_MODEL_ba094ac8a938475da70c674dd92236cb",
              "IPY_MODEL_5c3ededc6a8f4fce965624ed18be4c4e"
            ],
            "layout": "IPY_MODEL_d824d1f1e1334717ba1ef71d05f4ceb1"
          }
        },
        "b2028c36badf413c97d66db069bf11ff": {
          "model_module": "@jupyter-widgets/controls",
          "model_module_version": "1.5.0",
          "model_name": "DescriptionStyleModel",
          "state": {
            "_model_module": "@jupyter-widgets/controls",
            "_model_module_version": "1.5.0",
            "_model_name": "DescriptionStyleModel",
            "_view_count": null,
            "_view_module": "@jupyter-widgets/base",
            "_view_module_version": "1.2.0",
            "_view_name": "StyleView",
            "description_width": ""
          }
        },
        "ba094ac8a938475da70c674dd92236cb": {
          "model_module": "@jupyter-widgets/controls",
          "model_module_version": "1.5.0",
          "model_name": "FloatProgressModel",
          "state": {
            "_dom_classes": [],
            "_model_module": "@jupyter-widgets/controls",
            "_model_module_version": "1.5.0",
            "_model_name": "FloatProgressModel",
            "_view_count": null,
            "_view_module": "@jupyter-widgets/controls",
            "_view_module_version": "1.5.0",
            "_view_name": "ProgressView",
            "bar_style": "success",
            "description": "",
            "description_tooltip": null,
            "layout": "IPY_MODEL_174d0906d1d34a72b70b65488baa51c6",
            "max": 1531,
            "min": 0,
            "orientation": "horizontal",
            "style": "IPY_MODEL_260d33c616e841c09ac00520343e93b3",
            "value": 1531
          }
        },
        "bc376d2326f242709f658709dd96f2eb": {
          "model_module": "@jupyter-widgets/controls",
          "model_module_version": "1.5.0",
          "model_name": "HTMLModel",
          "state": {
            "_dom_classes": [],
            "_model_module": "@jupyter-widgets/controls",
            "_model_module_version": "1.5.0",
            "_model_name": "HTMLModel",
            "_view_count": null,
            "_view_module": "@jupyter-widgets/controls",
            "_view_module_version": "1.5.0",
            "_view_name": "HTMLView",
            "description": "",
            "description_tooltip": null,
            "layout": "IPY_MODEL_1844dff04c8f41bf959b41512714144a",
            "placeholder": "​",
            "style": "IPY_MODEL_73a30567398349c39a270dd35eea9586",
            "value": "config.json: 100%"
          }
        },
        "bda0de6b48e24111a89d75213dea06f8": {
          "model_module": "@jupyter-widgets/controls",
          "model_module_version": "1.5.0",
          "model_name": "DescriptionStyleModel",
          "state": {
            "_model_module": "@jupyter-widgets/controls",
            "_model_module_version": "1.5.0",
            "_model_name": "DescriptionStyleModel",
            "_view_count": null,
            "_view_module": "@jupyter-widgets/base",
            "_view_module_version": "1.2.0",
            "_view_name": "StyleView",
            "description_width": ""
          }
        },
        "c4b2bdd880a841a7a7cd16761de612fd": {
          "model_module": "@jupyter-widgets/base",
          "model_module_version": "1.2.0",
          "model_name": "LayoutModel",
          "state": {
            "_model_module": "@jupyter-widgets/base",
            "_model_module_version": "1.2.0",
            "_model_name": "LayoutModel",
            "_view_count": null,
            "_view_module": "@jupyter-widgets/base",
            "_view_module_version": "1.2.0",
            "_view_name": "LayoutView",
            "align_content": null,
            "align_items": null,
            "align_self": null,
            "border": null,
            "bottom": null,
            "display": null,
            "flex": null,
            "flex_flow": null,
            "grid_area": null,
            "grid_auto_columns": null,
            "grid_auto_flow": null,
            "grid_auto_rows": null,
            "grid_column": null,
            "grid_gap": null,
            "grid_row": null,
            "grid_template_areas": null,
            "grid_template_columns": null,
            "grid_template_rows": null,
            "height": null,
            "justify_content": null,
            "justify_items": null,
            "left": null,
            "margin": null,
            "max_height": null,
            "max_width": null,
            "min_height": null,
            "min_width": null,
            "object_fit": null,
            "object_position": null,
            "order": null,
            "overflow": null,
            "overflow_x": null,
            "overflow_y": null,
            "padding": null,
            "right": null,
            "top": null,
            "visibility": null,
            "width": null
          }
        },
        "d76549c10e2d4f79ac4309d46d756ae2": {
          "model_module": "@jupyter-widgets/base",
          "model_module_version": "1.2.0",
          "model_name": "LayoutModel",
          "state": {
            "_model_module": "@jupyter-widgets/base",
            "_model_module_version": "1.2.0",
            "_model_name": "LayoutModel",
            "_view_count": null,
            "_view_module": "@jupyter-widgets/base",
            "_view_module_version": "1.2.0",
            "_view_name": "LayoutView",
            "align_content": null,
            "align_items": null,
            "align_self": null,
            "border": null,
            "bottom": null,
            "display": null,
            "flex": null,
            "flex_flow": null,
            "grid_area": null,
            "grid_auto_columns": null,
            "grid_auto_flow": null,
            "grid_auto_rows": null,
            "grid_column": null,
            "grid_gap": null,
            "grid_row": null,
            "grid_template_areas": null,
            "grid_template_columns": null,
            "grid_template_rows": null,
            "height": null,
            "justify_content": null,
            "justify_items": null,
            "left": null,
            "margin": null,
            "max_height": null,
            "max_width": null,
            "min_height": null,
            "min_width": null,
            "object_fit": null,
            "object_position": null,
            "order": null,
            "overflow": null,
            "overflow_x": null,
            "overflow_y": null,
            "padding": null,
            "right": null,
            "top": null,
            "visibility": null,
            "width": null
          }
        },
        "d824d1f1e1334717ba1ef71d05f4ceb1": {
          "model_module": "@jupyter-widgets/base",
          "model_module_version": "1.2.0",
          "model_name": "LayoutModel",
          "state": {
            "_model_module": "@jupyter-widgets/base",
            "_model_module_version": "1.2.0",
            "_model_name": "LayoutModel",
            "_view_count": null,
            "_view_module": "@jupyter-widgets/base",
            "_view_module_version": "1.2.0",
            "_view_name": "LayoutView",
            "align_content": null,
            "align_items": null,
            "align_self": null,
            "border": null,
            "bottom": null,
            "display": null,
            "flex": null,
            "flex_flow": null,
            "grid_area": null,
            "grid_auto_columns": null,
            "grid_auto_flow": null,
            "grid_auto_rows": null,
            "grid_column": null,
            "grid_gap": null,
            "grid_row": null,
            "grid_template_areas": null,
            "grid_template_columns": null,
            "grid_template_rows": null,
            "height": null,
            "justify_content": null,
            "justify_items": null,
            "left": null,
            "margin": null,
            "max_height": null,
            "max_width": null,
            "min_height": null,
            "min_width": null,
            "object_fit": null,
            "object_position": null,
            "order": null,
            "overflow": null,
            "overflow_x": null,
            "overflow_y": null,
            "padding": null,
            "right": null,
            "top": null,
            "visibility": null,
            "width": null
          }
        },
        "d90cbd5e8eaa4a219fae1537cac4f3ad": {
          "model_module": "@jupyter-widgets/controls",
          "model_module_version": "1.5.0",
          "model_name": "DescriptionStyleModel",
          "state": {
            "_model_module": "@jupyter-widgets/controls",
            "_model_module_version": "1.5.0",
            "_model_name": "DescriptionStyleModel",
            "_view_count": null,
            "_view_module": "@jupyter-widgets/base",
            "_view_module_version": "1.2.0",
            "_view_name": "StyleView",
            "description_width": ""
          }
        },
        "dc3cb0364f6a4977981f9bf6b71c1e0a": {
          "model_module": "@jupyter-widgets/controls",
          "model_module_version": "1.5.0",
          "model_name": "DescriptionStyleModel",
          "state": {
            "_model_module": "@jupyter-widgets/controls",
            "_model_module_version": "1.5.0",
            "_model_name": "DescriptionStyleModel",
            "_view_count": null,
            "_view_module": "@jupyter-widgets/base",
            "_view_module_version": "1.2.0",
            "_view_name": "StyleView",
            "description_width": ""
          }
        },
        "de8526184897403d9c0ad3f9bef8c41f": {
          "model_module": "@jupyter-widgets/controls",
          "model_module_version": "1.5.0",
          "model_name": "HTMLModel",
          "state": {
            "_dom_classes": [],
            "_model_module": "@jupyter-widgets/controls",
            "_model_module_version": "1.5.0",
            "_model_name": "HTMLModel",
            "_view_count": null,
            "_view_module": "@jupyter-widgets/controls",
            "_view_module_version": "1.5.0",
            "_view_name": "HTMLView",
            "description": "",
            "description_tooltip": null,
            "layout": "IPY_MODEL_6547770f25154670a0e733cbaf8eb83c",
            "placeholder": "​",
            "style": "IPY_MODEL_3eee5cacc6b342739f347324a101b733",
            "value": " 85.0/85.0 [00:00&lt;00:00, 5.19kB/s]"
          }
        },
        "e0c49e27bac04a1eb64fac70180e1614": {
          "model_module": "@jupyter-widgets/base",
          "model_module_version": "1.2.0",
          "model_name": "LayoutModel",
          "state": {
            "_model_module": "@jupyter-widgets/base",
            "_model_module_version": "1.2.0",
            "_model_name": "LayoutModel",
            "_view_count": null,
            "_view_module": "@jupyter-widgets/base",
            "_view_module_version": "1.2.0",
            "_view_name": "LayoutView",
            "align_content": null,
            "align_items": null,
            "align_self": null,
            "border": null,
            "bottom": null,
            "display": null,
            "flex": null,
            "flex_flow": null,
            "grid_area": null,
            "grid_auto_columns": null,
            "grid_auto_flow": null,
            "grid_auto_rows": null,
            "grid_column": null,
            "grid_gap": null,
            "grid_row": null,
            "grid_template_areas": null,
            "grid_template_columns": null,
            "grid_template_rows": null,
            "height": null,
            "justify_content": null,
            "justify_items": null,
            "left": null,
            "margin": null,
            "max_height": null,
            "max_width": null,
            "min_height": null,
            "min_width": null,
            "object_fit": null,
            "object_position": null,
            "order": null,
            "overflow": null,
            "overflow_x": null,
            "overflow_y": null,
            "padding": null,
            "right": null,
            "top": null,
            "visibility": null,
            "width": null
          }
        },
        "ec7c5b97a9b9429f886669789bba0c4c": {
          "model_module": "@jupyter-widgets/controls",
          "model_module_version": "1.5.0",
          "model_name": "DescriptionStyleModel",
          "state": {
            "_model_module": "@jupyter-widgets/controls",
            "_model_module_version": "1.5.0",
            "_model_name": "DescriptionStyleModel",
            "_view_count": null,
            "_view_module": "@jupyter-widgets/base",
            "_view_module_version": "1.2.0",
            "_view_name": "StyleView",
            "description_width": ""
          }
        }
      }
    },
    "accelerator": "GPU"
  },
  "nbformat": 4,
  "nbformat_minor": 0
}